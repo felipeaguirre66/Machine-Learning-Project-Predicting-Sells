{
  "nbformat": 4,
  "nbformat_minor": 0,
  "metadata": {
    "colab": {
      "name": "Validacion ML_Desafio_final.ipynb",
      "provenance": [],
      "collapsed_sections": []
    },
    "kernelspec": {
      "display_name": "Python 3",
      "name": "python3"
    },
    "language_info": {
      "name": "python"
    }
  },
  "cells": [
    {
      "cell_type": "markdown",
      "metadata": {
        "id": "eGabt82x50I9"
      },
      "source": [
        "### Actualización e importación"
      ]
    },
    {
      "cell_type": "code",
      "metadata": {
        "id": "OF5tJBs8xrNK"
      },
      "source": [
        "# Actualización de Sklearn para luego poder importar librerias. \n",
        "# ATENCION: escribir 'y' y luego enter en el input que aparece.\n",
        "# ATENCION: si aparece WARNING en rojo, correr la celda siguiente (exit()).\n",
        "\n",
        "#!pip uninstall scikit-learn\n",
        "#!pip install scikit-learn==0.24.1"
      ],
      "execution_count": null,
      "outputs": []
    },
    {
      "cell_type": "code",
      "metadata": {
        "id": "8bq7qdF_pE66"
      },
      "source": [
        "# Celda en caso de ver \"warning\" en rojo (restart runtime)\n",
        "#exit()"
      ],
      "execution_count": null,
      "outputs": []
    },
    {
      "cell_type": "code",
      "metadata": {
        "id": "qaRr57eIxtgr"
      },
      "source": [
        "# Importación de pandas y numpy\n",
        "import pandas as pd\n",
        "import numpy as np"
      ],
      "execution_count": null,
      "outputs": []
    },
    {
      "cell_type": "markdown",
      "metadata": {
        "id": "wSv4Gufj6EZK"
      },
      "source": [
        "### Exploracion"
      ]
    },
    {
      "cell_type": "code",
      "metadata": {
        "id": "W9x4yGDJxvhG"
      },
      "source": [
        "# Lectura del dataset \n",
        "\n",
        "df = pd.read_csv('/content/drive/MyDrive/ML_Desafio/Entrenamieto_ECI_2020.csv')"
      ],
      "execution_count": null,
      "outputs": []
    },
    {
      "cell_type": "code",
      "metadata": {
        "colab": {
          "base_uri": "https://localhost:8080/",
          "height": 300
        },
        "id": "7OAm2HvLxylc",
        "outputId": "67ed549c-aa88-4299-bcff-fa66d398657a"
      },
      "source": [
        "# Algunas columnas y valores tienen espacios y comas. Los quito o reemplazo por guiones bajos.\n",
        "\n",
        "df = df.replace(' ','_', regex=True)\n",
        "df = df.replace(',','_', regex=True)\n",
        "df.columns = df.columns.str.replace(\"[ ]\", \"\")\n",
        "df.columns = df.columns.str.replace(\"[,]\", \"_\")\n",
        "df.head()"
      ],
      "execution_count": null,
      "outputs": [
        {
          "output_type": "execute_result",
          "data": {
            "text/html": [
              "<div>\n",
              "<style scoped>\n",
              "    .dataframe tbody tr th:only-of-type {\n",
              "        vertical-align: middle;\n",
              "    }\n",
              "\n",
              "    .dataframe tbody tr th {\n",
              "        vertical-align: top;\n",
              "    }\n",
              "\n",
              "    .dataframe thead th {\n",
              "        text-align: right;\n",
              "    }\n",
              "</style>\n",
              "<table border=\"1\" class=\"dataframe\">\n",
              "  <thead>\n",
              "    <tr style=\"text-align: right;\">\n",
              "      <th></th>\n",
              "      <th>ID</th>\n",
              "      <th>Region</th>\n",
              "      <th>Territory</th>\n",
              "      <th>Pricing_Delivery_Terms_Quote_Appr</th>\n",
              "      <th>Pricing_Delivery_Terms_Approved</th>\n",
              "      <th>Bureaucratic_Code_0_Approval</th>\n",
              "      <th>Bureaucratic_Code_0_Approved</th>\n",
              "      <th>Submitted_for_Approval</th>\n",
              "      <th>Bureaucratic_Code</th>\n",
              "      <th>Account_Created_Date</th>\n",
              "      <th>Source</th>\n",
              "      <th>Billing_Country</th>\n",
              "      <th>Account_Name</th>\n",
              "      <th>Opportunity_Name</th>\n",
              "      <th>Opportunity_ID</th>\n",
              "      <th>Sales_Contract_No</th>\n",
              "      <th>Account_Owner</th>\n",
              "      <th>Opportunity_Owner</th>\n",
              "      <th>Account_Type</th>\n",
              "      <th>Opportunity_Type</th>\n",
              "      <th>Quote_Type</th>\n",
              "      <th>Delivery_Terms</th>\n",
              "      <th>Opportunity_Created_Date</th>\n",
              "      <th>Brand</th>\n",
              "      <th>Product_Type</th>\n",
              "      <th>Size</th>\n",
              "      <th>Product_Category_B</th>\n",
              "      <th>Price</th>\n",
              "      <th>Currency</th>\n",
              "      <th>Last_Activity</th>\n",
              "      <th>Quote_Expiry_Date</th>\n",
              "      <th>Last_Modified_Date</th>\n",
              "      <th>Last_Modified_By</th>\n",
              "      <th>Product_Family</th>\n",
              "      <th>Product_Name</th>\n",
              "      <th>ASP_Currency</th>\n",
              "      <th>ASP</th>\n",
              "      <th>ASP_(converted)_Currency</th>\n",
              "      <th>ASP_(converted)</th>\n",
              "      <th>Planned_Delivery_Start_Date</th>\n",
              "      <th>Planned_Delivery_End_Date</th>\n",
              "      <th>Month</th>\n",
              "      <th>Delivery_Quarter</th>\n",
              "      <th>Delivery_Year</th>\n",
              "      <th>Actual_Delivery_Date</th>\n",
              "      <th>TRF</th>\n",
              "      <th>Total_Amount_Currency</th>\n",
              "      <th>Total_Amount</th>\n",
              "      <th>Total_Taxable_Amount_Currency</th>\n",
              "      <th>Total_Taxable_Amount</th>\n",
              "      <th>Stage</th>\n",
              "      <th>Prod_Category_A</th>\n",
              "    </tr>\n",
              "  </thead>\n",
              "  <tbody>\n",
              "    <tr>\n",
              "      <th>0</th>\n",
              "      <td>27761</td>\n",
              "      <td>EMEA</td>\n",
              "      <td>None</td>\n",
              "      <td>1</td>\n",
              "      <td>1</td>\n",
              "      <td>1</td>\n",
              "      <td>1</td>\n",
              "      <td>0</td>\n",
              "      <td>Bureaucratic_Code_4</td>\n",
              "      <td>6/16/2015</td>\n",
              "      <td>None</td>\n",
              "      <td>Netherlands</td>\n",
              "      <td>Account_Name_619</td>\n",
              "      <td>Opportunity_Name_12598</td>\n",
              "      <td>0</td>\n",
              "      <td>None</td>\n",
              "      <td>Person_Name_51</td>\n",
              "      <td>Person_Name_18</td>\n",
              "      <td>Account_Type_2</td>\n",
              "      <td>Opportunity_Type_1</td>\n",
              "      <td>Non_Binding</td>\n",
              "      <td>Delivery_Terms_2</td>\n",
              "      <td>12/7/2015</td>\n",
              "      <td>None</td>\n",
              "      <td>None</td>\n",
              "      <td>None</td>\n",
              "      <td>None</td>\n",
              "      <td>None</td>\n",
              "      <td>None</td>\n",
              "      <td>NaT</td>\n",
              "      <td>1/30/2016</td>\n",
              "      <td>6/13/2016</td>\n",
              "      <td>Person_Name_18</td>\n",
              "      <td>Product_Family_77</td>\n",
              "      <td>Product_Name_99</td>\n",
              "      <td>EUR</td>\n",
              "      <td>0.52</td>\n",
              "      <td>USD</td>\n",
              "      <td>0.58817</td>\n",
              "      <td>5/1/2016</td>\n",
              "      <td>6/30/2016</td>\n",
              "      <td>2016_-_5</td>\n",
              "      <td>Q2</td>\n",
              "      <td>2016</td>\n",
              "      <td>NaT</td>\n",
              "      <td>10</td>\n",
              "      <td>EUR</td>\n",
              "      <td>5272800.0</td>\n",
              "      <td>EUR</td>\n",
              "      <td>5272800.0</td>\n",
              "      <td>Closed_Lost</td>\n",
              "      <td>Prod_Category_A_None</td>\n",
              "    </tr>\n",
              "    <tr>\n",
              "      <th>1</th>\n",
              "      <td>27760</td>\n",
              "      <td>EMEA</td>\n",
              "      <td>None</td>\n",
              "      <td>0</td>\n",
              "      <td>0</td>\n",
              "      <td>0</td>\n",
              "      <td>0</td>\n",
              "      <td>0</td>\n",
              "      <td>Bureaucratic_Code_4</td>\n",
              "      <td>6/16/2015</td>\n",
              "      <td>None</td>\n",
              "      <td>Netherlands</td>\n",
              "      <td>Account_Name_619</td>\n",
              "      <td>Opportunity_Name_12600</td>\n",
              "      <td>1</td>\n",
              "      <td>39</td>\n",
              "      <td>Person_Name_51</td>\n",
              "      <td>Person_Name_20</td>\n",
              "      <td>Account_Type_2</td>\n",
              "      <td>Opportunity_Type_1</td>\n",
              "      <td>Non_Binding</td>\n",
              "      <td>Delivery_Terms_2</td>\n",
              "      <td>12/7/2015</td>\n",
              "      <td>None</td>\n",
              "      <td>None</td>\n",
              "      <td>None</td>\n",
              "      <td>None</td>\n",
              "      <td>None</td>\n",
              "      <td>None</td>\n",
              "      <td>NaT</td>\n",
              "      <td>1/20/2016</td>\n",
              "      <td>1/15/2016</td>\n",
              "      <td>Person_Name_20</td>\n",
              "      <td>Product_Family_77</td>\n",
              "      <td>Product_Name_100</td>\n",
              "      <td>EUR</td>\n",
              "      <td>0.53</td>\n",
              "      <td>USD</td>\n",
              "      <td>0.59948</td>\n",
              "      <td>1/18/2016</td>\n",
              "      <td>1/20/2016</td>\n",
              "      <td>2016_-_1</td>\n",
              "      <td>Q1</td>\n",
              "      <td>2016</td>\n",
              "      <td>NaT</td>\n",
              "      <td>0</td>\n",
              "      <td>EUR</td>\n",
              "      <td>48230.0</td>\n",
              "      <td>EUR</td>\n",
              "      <td>48230.0</td>\n",
              "      <td>Closed_Won</td>\n",
              "      <td>Prod_Category_A_None</td>\n",
              "    </tr>\n",
              "    <tr>\n",
              "      <th>2</th>\n",
              "      <td>27446</td>\n",
              "      <td>Americas</td>\n",
              "      <td>NW_America</td>\n",
              "      <td>0</td>\n",
              "      <td>0</td>\n",
              "      <td>0</td>\n",
              "      <td>0</td>\n",
              "      <td>0</td>\n",
              "      <td>Bureaucratic_Code_4</td>\n",
              "      <td>4/21/2015</td>\n",
              "      <td>Source_7</td>\n",
              "      <td>United_States</td>\n",
              "      <td>Account_Name_1794</td>\n",
              "      <td>Opportunity_Name_469</td>\n",
              "      <td>2</td>\n",
              "      <td>760</td>\n",
              "      <td>Person_Name_64</td>\n",
              "      <td>Person_Name_8</td>\n",
              "      <td>Account_Type_5</td>\n",
              "      <td>Opportunity_Type_1</td>\n",
              "      <td>Non_Binding</td>\n",
              "      <td>Delivery_Terms_4</td>\n",
              "      <td>12/8/2015</td>\n",
              "      <td>None</td>\n",
              "      <td>None</td>\n",
              "      <td>None</td>\n",
              "      <td>None</td>\n",
              "      <td>None</td>\n",
              "      <td>None</td>\n",
              "      <td>NaT</td>\n",
              "      <td>9/30/2016</td>\n",
              "      <td>9/29/2016</td>\n",
              "      <td>Person_Name_8</td>\n",
              "      <td>Product_Family_81</td>\n",
              "      <td>Product_Name_91</td>\n",
              "      <td>USD</td>\n",
              "      <td>0.48</td>\n",
              "      <td>USD</td>\n",
              "      <td>0.48000</td>\n",
              "      <td>1/25/2016</td>\n",
              "      <td>1/25/2016</td>\n",
              "      <td>2016_-_1</td>\n",
              "      <td>Q1</td>\n",
              "      <td>2016</td>\n",
              "      <td>NaT</td>\n",
              "      <td>0</td>\n",
              "      <td>USD</td>\n",
              "      <td>83865.6</td>\n",
              "      <td>USD</td>\n",
              "      <td>83865.6</td>\n",
              "      <td>Closed_Won</td>\n",
              "      <td>Prod_Category_A_None</td>\n",
              "    </tr>\n",
              "    <tr>\n",
              "      <th>3</th>\n",
              "      <td>16808</td>\n",
              "      <td>Americas</td>\n",
              "      <td>NW_America</td>\n",
              "      <td>1</td>\n",
              "      <td>0</td>\n",
              "      <td>1</td>\n",
              "      <td>0</td>\n",
              "      <td>0</td>\n",
              "      <td>Bureaucratic_Code_5</td>\n",
              "      <td>7/27/2013</td>\n",
              "      <td>Source_11</td>\n",
              "      <td>United_States</td>\n",
              "      <td>Account_Name_1201</td>\n",
              "      <td>Opportunity_Name_415</td>\n",
              "      <td>3</td>\n",
              "      <td>None</td>\n",
              "      <td>Person_Name_8</td>\n",
              "      <td>Person_Name_8</td>\n",
              "      <td>Account_Type_5</td>\n",
              "      <td>Opportunity_Type_19</td>\n",
              "      <td>Non_Binding</td>\n",
              "      <td>Delivery_Terms_1</td>\n",
              "      <td>12/8/2015</td>\n",
              "      <td>Other</td>\n",
              "      <td>Product_Type_0</td>\n",
              "      <td>Size_4</td>\n",
              "      <td>Product_Category_B_16</td>\n",
              "      <td>0.42</td>\n",
              "      <td>USD</td>\n",
              "      <td>NaT</td>\n",
              "      <td>NaT</td>\n",
              "      <td>3/27/2018</td>\n",
              "      <td>Person_Name_8</td>\n",
              "      <td>Product_Family_209</td>\n",
              "      <td>Product_Name_432</td>\n",
              "      <td>USD</td>\n",
              "      <td>0.53</td>\n",
              "      <td>USD</td>\n",
              "      <td>0.53000</td>\n",
              "      <td>2/1/2018</td>\n",
              "      <td>3/31/2018</td>\n",
              "      <td>2018_-_2</td>\n",
              "      <td>Q1</td>\n",
              "      <td>2018</td>\n",
              "      <td>NaT</td>\n",
              "      <td>14</td>\n",
              "      <td>USD</td>\n",
              "      <td>7421881.5</td>\n",
              "      <td>USD</td>\n",
              "      <td>7421881.5</td>\n",
              "      <td>Closed_Lost</td>\n",
              "      <td>Prod_Category_A_None</td>\n",
              "    </tr>\n",
              "    <tr>\n",
              "      <th>4</th>\n",
              "      <td>16805</td>\n",
              "      <td>Americas</td>\n",
              "      <td>NW_America</td>\n",
              "      <td>1</td>\n",
              "      <td>0</td>\n",
              "      <td>1</td>\n",
              "      <td>0</td>\n",
              "      <td>0</td>\n",
              "      <td>Bureaucratic_Code_5</td>\n",
              "      <td>7/27/2013</td>\n",
              "      <td>Source_11</td>\n",
              "      <td>United_States</td>\n",
              "      <td>Account_Name_1201</td>\n",
              "      <td>Opportunity_Name_851</td>\n",
              "      <td>4</td>\n",
              "      <td>None</td>\n",
              "      <td>Person_Name_8</td>\n",
              "      <td>Person_Name_8</td>\n",
              "      <td>Account_Type_5</td>\n",
              "      <td>Opportunity_Type_19</td>\n",
              "      <td>Non_Binding</td>\n",
              "      <td>Delivery_Terms_1</td>\n",
              "      <td>12/8/2015</td>\n",
              "      <td>Other</td>\n",
              "      <td>Product_Type_0</td>\n",
              "      <td>Size_4</td>\n",
              "      <td>Product_Category_B_16</td>\n",
              "      <td>0.42</td>\n",
              "      <td>USD</td>\n",
              "      <td>NaT</td>\n",
              "      <td>6/2/2017</td>\n",
              "      <td>3/27/2018</td>\n",
              "      <td>Person_Name_8</td>\n",
              "      <td>Product_Family_209</td>\n",
              "      <td>Product_Name_432</td>\n",
              "      <td>USD</td>\n",
              "      <td>0.53</td>\n",
              "      <td>USD</td>\n",
              "      <td>0.53000</td>\n",
              "      <td>2/1/2018</td>\n",
              "      <td>2/28/2018</td>\n",
              "      <td>2018_-_2</td>\n",
              "      <td>Q1</td>\n",
              "      <td>2018</td>\n",
              "      <td>NaT</td>\n",
              "      <td>25</td>\n",
              "      <td>USD</td>\n",
              "      <td>13357192.5</td>\n",
              "      <td>USD</td>\n",
              "      <td>13357192.5</td>\n",
              "      <td>Closed_Lost</td>\n",
              "      <td>Prod_Category_A_None</td>\n",
              "    </tr>\n",
              "  </tbody>\n",
              "</table>\n",
              "</div>"
            ],
            "text/plain": [
              "      ID    Region  ...        Stage       Prod_Category_A\n",
              "0  27761      EMEA  ...  Closed_Lost  Prod_Category_A_None\n",
              "1  27760      EMEA  ...   Closed_Won  Prod_Category_A_None\n",
              "2  27446  Americas  ...   Closed_Won  Prod_Category_A_None\n",
              "3  16808  Americas  ...  Closed_Lost  Prod_Category_A_None\n",
              "4  16805  Americas  ...  Closed_Lost  Prod_Category_A_None\n",
              "\n",
              "[5 rows x 52 columns]"
            ]
          },
          "metadata": {},
          "execution_count": 1491
        }
      ]
    },
    {
      "cell_type": "markdown",
      "metadata": {
        "id": "ChPcfaT36JpQ"
      },
      "source": [
        "### Tratamiento de datos faltantes"
      ]
    },
    {
      "cell_type": "code",
      "metadata": {
        "colab": {
          "base_uri": "https://localhost:8080/"
        },
        "id": "F-c9kAQtEkqY",
        "outputId": "8f11b5b3-f238-444a-aee2-dc76440c5772"
      },
      "source": [
        "# Comienzo con ASP. Debido a la presencia de Outliers, escojo la estrategia de imputar por la mediana.\n",
        "\n",
        "# Importo la funcion\n",
        "from sklearn.impute import SimpleImputer\n",
        "\n",
        "# Separo la variable a imputar\n",
        "variable = df[['ASP']]\n",
        "\n",
        "# Imputo con la mediana\n",
        "imputer = SimpleImputer(missing_values=np.nan, strategy='median')\n",
        "imputer.fit(variable[['ASP']])\n",
        "variable = imputer.transform(variable[['ASP']]) \n",
        "\n",
        "\n",
        "# Print de media, mediana max y min de la variable imputada y la original para evaluar que sean similares. \n",
        "print(variable.mean())\n",
        "print(df['ASP'].mean())\n",
        "print('-----')\n",
        "print(np.median(variable))\n",
        "print(df['ASP'].median())\n",
        "print('-----')\n",
        "print(variable.max())\n",
        "print(df['ASP'].max())\n",
        "print('-----')\n",
        "print(variable.min())\n",
        "print(df['ASP'].min())\n",
        "print('-----')\n",
        "print(variable.std())\n",
        "print(df['ASP'].std())"
      ],
      "execution_count": null,
      "outputs": [
        {
          "output_type": "stream",
          "name": "stdout",
          "text": [
            "5.760088410928188\n",
            "7.012128279225431\n",
            "-----\n",
            "0.4\n",
            "0.4\n",
            "-----\n",
            "80.0\n",
            "80.0\n",
            "-----\n",
            "0.0\n",
            "0.0\n",
            "-----\n",
            "17.1751555759083\n",
            "18.858359011841536\n"
          ]
        }
      ]
    },
    {
      "cell_type": "code",
      "metadata": {
        "id": "kqvKX2loH2nO"
      },
      "source": [
        "# Imputo la variable original\n",
        "df['ASP'] = variable"
      ],
      "execution_count": null,
      "outputs": []
    },
    {
      "cell_type": "code",
      "metadata": {
        "colab": {
          "base_uri": "https://localhost:8080/"
        },
        "id": "1NBZi4yiG-FY",
        "outputId": "5eecd033-7c15-417f-da93-c0d515c7dd01"
      },
      "source": [
        "# Continuo con ASP_(converted). Debido a la presencia de outliers, escojo la estrategia de imputar por la mediana.\n",
        "\n",
        "# Separo la variable a imputar\n",
        "variable = df[['ASP_(converted)']]\n",
        "\n",
        "\n",
        "# Imputo con la mediana\n",
        "imputer = SimpleImputer(missing_values=np.nan, strategy='median')\n",
        "imputer.fit(variable[['ASP_(converted)']])\n",
        "variable = imputer.transform(variable[['ASP_(converted)']]) \n",
        "\n",
        "\n",
        "# printeo media, mediana max y min de la variable imputada y la original para evaluar que sean similares\n",
        "print(variable.mean())\n",
        "print(df['ASP_(converted)'].mean())\n",
        "print('-----')\n",
        "print(np.median(variable))\n",
        "print(df['ASP_(converted)'].median())\n",
        "print('-----')\n",
        "print(variable.max())\n",
        "print(df['ASP_(converted)'].max())\n",
        "print('-----')\n",
        "print(variable.min())\n",
        "print(df['ASP_(converted)'].min())\n",
        "print('-----')\n",
        "print(variable.std())\n",
        "print(df['ASP_(converted)'].std())"
      ],
      "execution_count": null,
      "outputs": [
        {
          "output_type": "stream",
          "name": "stdout",
          "text": [
            "0.42882270844397236\n",
            "0.4325537043237735\n",
            "-----\n",
            "0.41285\n",
            "0.41285\n",
            "-----\n",
            "67.0\n",
            "67.0\n",
            "-----\n",
            "0.0\n",
            "0.0\n",
            "-----\n",
            "0.6830834450581397\n",
            "0.7586587830665257\n"
          ]
        }
      ]
    },
    {
      "cell_type": "code",
      "metadata": {
        "id": "E8Di5elQI5ZH"
      },
      "source": [
        "# Imputo la variable original\n",
        "\n",
        "df['ASP_(converted)'] = variable"
      ],
      "execution_count": null,
      "outputs": []
    },
    {
      "cell_type": "code",
      "metadata": {
        "id": "BFC80KouJela"
      },
      "source": [
        "# Elimino el resto de las filas con datos faltantes\n",
        "\n",
        "df.dropna(inplace = True)"
      ],
      "execution_count": null,
      "outputs": []
    },
    {
      "cell_type": "code",
      "metadata": {
        "id": "qFYF15PA8VDl"
      },
      "source": [
        "# Dropeo de valores \"NaN\" ya que se encuentra en muchas variables numericas.\n",
        "\n",
        "nan_value = float(\"NaN\")\n",
        "df.replace(\"\", nan_value, inplace=True)\n",
        "df.dropna(inplace=True)"
      ],
      "execution_count": null,
      "outputs": []
    },
    {
      "cell_type": "code",
      "metadata": {
        "colab": {
          "base_uri": "https://localhost:8080/"
        },
        "id": "bK0OFnqa3oX1",
        "outputId": "7fc7aaa7-0f9d-4225-984d-26133fd80a30"
      },
      "source": [
        "df.shape"
      ],
      "execution_count": null,
      "outputs": [
        {
          "output_type": "execute_result",
          "data": {
            "text/plain": [
              "(16888, 52)"
            ]
          },
          "metadata": {},
          "execution_count": 1498
        }
      ]
    },
    {
      "cell_type": "markdown",
      "metadata": {
        "id": "AzXcaG-96UUk"
      },
      "source": [
        "# Feature Engineering: binning y drop."
      ]
    },
    {
      "cell_type": "markdown",
      "metadata": {
        "id": "qUGembfSURY1"
      },
      "source": [
        "# Binning"
      ]
    },
    {
      "cell_type": "code",
      "metadata": {
        "colab": {
          "base_uri": "https://localhost:8080/"
        },
        "id": "lfs5YkN4k2DM",
        "outputId": "1b366194-32b4-4ca8-8e9f-6b1e5519f4bc"
      },
      "source": [
        "# Transformacion de la variable objetivo/a predecir en dummy numerica.\n",
        "\n",
        "# Primero drop de todo lo que no sea closed_won o closed_lost.\n",
        "df = df.query('Stage == \"Closed_Won\" or Stage == \"Closed_Lost\"')\n",
        "\n",
        "# Transformo la variable target a una dummy numerica.\n",
        "array = df['Stage'].copy()\n",
        "target = []\n",
        "\n",
        "for i,v in enumerate(array):\n",
        "    if v == 'Closed_Won':\n",
        "       target.append(1)\n",
        "    elif v == 'Closed_Lost':\n",
        "      target.append(0)\n",
        "\n",
        "# Me aseguro de haber tranformado los \"Won\" en 1 y los \"Lost\" en 0\n",
        "print(df['Stage'].value_counts())\n",
        "\n",
        "print(pd.DataFrame(target).value_counts())"
      ],
      "execution_count": null,
      "outputs": [
        {
          "output_type": "stream",
          "name": "stdout",
          "text": [
            "Closed_Won     9532\n",
            "Closed_Lost    7292\n",
            "Name: Stage, dtype: int64\n",
            "1    9532\n",
            "0    7292\n",
            "dtype: int64\n"
          ]
        }
      ]
    },
    {
      "cell_type": "code",
      "metadata": {
        "id": "kLDIO-v_oUN0"
      },
      "source": [
        "# Actualizo la variable target\n",
        "\n",
        "df['Stage'] = target"
      ],
      "execution_count": null,
      "outputs": []
    },
    {
      "cell_type": "code",
      "metadata": {
        "colab": {
          "base_uri": "https://localhost:8080/"
        },
        "id": "A10HN1KNFLoE",
        "outputId": "63dccc91-4b13-45e1-da15-ad57234b5ebd"
      },
      "source": [
        "# Transformo la variable Brand a una dummy.\n",
        "\n",
        "target = df['Brand'].copy()\n",
        "\n",
        "\n",
        "for i,v in enumerate(target):\n",
        "\n",
        "    if v == 'None':\n",
        "       target[i] = 0\n",
        "       \n",
        "    elif v != 'None':\n",
        "      target[i] = 1\n",
        "\n",
        "target.value_counts()\n"
      ],
      "execution_count": null,
      "outputs": [
        {
          "output_type": "execute_result",
          "data": {
            "text/plain": [
              "0       15788\n",
              "1        1036\n",
              "None      123\n",
              "Name: Brand, dtype: int64"
            ]
          },
          "metadata": {},
          "execution_count": 1501
        }
      ]
    },
    {
      "cell_type": "code",
      "metadata": {
        "id": "h6F3rMohFRlx"
      },
      "source": [
        "# Actualizo la variable\n",
        "\n",
        "df['Brand'] = target"
      ],
      "execution_count": null,
      "outputs": []
    },
    {
      "cell_type": "code",
      "metadata": {
        "colab": {
          "base_uri": "https://localhost:8080/"
        },
        "id": "OAUm_hgMIfhn",
        "outputId": "61cd2568-ed07-4b23-a087-eaabaa894d5f"
      },
      "source": [
        "# Transformo la variable Product_Type a una dummy.\n",
        "\n",
        "target = df['Product_Type'].copy()\n",
        "\n",
        "\n",
        "for i,v in enumerate(target):\n",
        "\n",
        "    if v == 'None':\n",
        "       target[i] = 0\n",
        "       \n",
        "    elif v != 'None':\n",
        "      target[i] = 1\n",
        "\n",
        "print(df['Product_Type'].value_counts())\n",
        "print('------')\n",
        "print(target.value_counts())"
      ],
      "execution_count": null,
      "outputs": [
        {
          "output_type": "stream",
          "name": "stdout",
          "text": [
            "None              15812\n",
            "Other               515\n",
            "Product_Type_3      179\n",
            "Product_Type_1      142\n",
            "Product_Type_0       94\n",
            "Product_Type_4       73\n",
            "Product_Type_2        9\n",
            "Name: Product_Type, dtype: int64\n",
            "------\n",
            "0       15812\n",
            "1        1012\n",
            "None      123\n",
            "Name: Product_Type, dtype: int64\n"
          ]
        }
      ]
    },
    {
      "cell_type": "code",
      "metadata": {
        "id": "_E5oZxqzJGF3"
      },
      "source": [
        "# Actualizo la variable\n",
        "\n",
        "df['Product_Type'] = target"
      ],
      "execution_count": null,
      "outputs": []
    },
    {
      "cell_type": "code",
      "metadata": {
        "colab": {
          "base_uri": "https://localhost:8080/"
        },
        "id": "lXR2EaoGJ04i",
        "outputId": "bc0a9220-79d5-4c38-9b20-b0deacbc813f"
      },
      "source": [
        "# Transformo la variable Size a una dummy numerica.\n",
        "\n",
        "target = df['Size'].copy()\n",
        "\n",
        "for i,v in enumerate(target):\n",
        "\n",
        "    if v == 'None':\n",
        "       target[i] = 0\n",
        "       \n",
        "    elif v != 'None':\n",
        "      target[i] = 1\n",
        "\n",
        "print(df['Size'].value_counts())\n",
        "print('------')\n",
        "print(target.value_counts())"
      ],
      "execution_count": null,
      "outputs": [
        {
          "output_type": "stream",
          "name": "stdout",
          "text": [
            "None      15844\n",
            "Other       394\n",
            "Size_3      356\n",
            "Size_4      196\n",
            "Size_1       25\n",
            "Size_0        7\n",
            "Size_2        2\n",
            "Name: Size, dtype: int64\n",
            "------\n",
            "0       15844\n",
            "1         980\n",
            "None      123\n",
            "Name: Size, dtype: int64\n"
          ]
        }
      ]
    },
    {
      "cell_type": "code",
      "metadata": {
        "id": "9TshV08zJ68M"
      },
      "source": [
        "# transformo la variable\n",
        "\n",
        "df['Size'] = target"
      ],
      "execution_count": null,
      "outputs": []
    },
    {
      "cell_type": "code",
      "metadata": {
        "colab": {
          "base_uri": "https://localhost:8080/"
        },
        "id": "hkfcfq3EKXcZ",
        "outputId": "15ebb97f-a98d-48e2-9cd6-e01bb9746be3"
      },
      "source": [
        "# Transformo la variable Product_Category_B a una dummy numerica.\n",
        "\n",
        "target = df['Product_Category_B'].copy()\n",
        "\n",
        "for i,v in enumerate(target):\n",
        "\n",
        "    if v == 'None':\n",
        "       target[i] = 0\n",
        "       \n",
        "    elif v != 'None':\n",
        "      target[i] = 1\n",
        "\n",
        "print(df['Product_Category_B'].value_counts())\n",
        "print('------')\n",
        "print(target.value_counts())"
      ],
      "execution_count": null,
      "outputs": [
        {
          "output_type": "stream",
          "name": "stdout",
          "text": [
            "None                     15805\n",
            "Other                      523\n",
            "Product_Category_B_2        59\n",
            "Product_Category_B_12       51\n",
            "Product_Category_B_7        47\n",
            "Product_Category_B_4        37\n",
            "Product_Category_B_5        36\n",
            "Product_Category_B_17       27\n",
            "Product_Category_B_1        24\n",
            "Product_Category_B_8        23\n",
            "Product_Category_B_3        23\n",
            "Product_Category_B_19       22\n",
            "Product_Category_B_11       21\n",
            "Product_Category_B_13       18\n",
            "Product_Category_B_9        17\n",
            "Product_Category_B_16       17\n",
            "Product_Category_B_24       16\n",
            "Product_Category_B_20        9\n",
            "Product_Category_B_6         9\n",
            "Product_Category_B_15        8\n",
            "Product_Category_B_21        8\n",
            "Product_Category_B_23        5\n",
            "Product_Category_B_26        4\n",
            "Product_Category_B_14        4\n",
            "Product_Category_B_27        3\n",
            "Product_Category_B_0         3\n",
            "Product_Category_B_10        3\n",
            "Product_Category_B_22        2\n",
            "Name: Product_Category_B, dtype: int64\n",
            "------\n",
            "0       15805\n",
            "1        1019\n",
            "None      123\n",
            "Name: Product_Category_B, dtype: int64\n"
          ]
        }
      ]
    },
    {
      "cell_type": "code",
      "metadata": {
        "id": "5NmXhOXeKgGZ"
      },
      "source": [
        "# Actualizo la variable\n",
        "\n",
        "df['Product_Category_B'] = target"
      ],
      "execution_count": null,
      "outputs": []
    },
    {
      "cell_type": "code",
      "metadata": {
        "colab": {
          "base_uri": "https://localhost:8080/"
        },
        "id": "PrGTX6wvK5nI",
        "outputId": "9689a53c-2031-4dc0-f094-09c5f87f2d56"
      },
      "source": [
        "# Transformo la variable Price a una dummy.\n",
        "\n",
        "target = df['Price'].copy()\n",
        "\n",
        "for i,v in enumerate(target):\n",
        "\n",
        "    if v == 'None':\n",
        "       target[i] = 0\n",
        "       \n",
        "    elif v != 'None':\n",
        "      target[i] = 1\n",
        "\n",
        "print(df['Price'].value_counts())\n",
        "print('------')\n",
        "print(target.value_counts())"
      ],
      "execution_count": null,
      "outputs": [
        {
          "output_type": "stream",
          "name": "stdout",
          "text": [
            "None     15859\n",
            "Other      609\n",
            "0.24        27\n",
            "0.41        22\n",
            "0.28        20\n",
            "0.27        18\n",
            "0.29        17\n",
            "0.32        15\n",
            "0.35        14\n",
            "0.38        14\n",
            "0.23        13\n",
            "0.33        12\n",
            "0.42        12\n",
            "0.26        11\n",
            "0.34        11\n",
            "0.3         11\n",
            "0.31        10\n",
            "0.245        8\n",
            "0.25         7\n",
            "0.305        7\n",
            "0.335        6\n",
            "0.47         6\n",
            "0.325        6\n",
            "0.45         6\n",
            "0.225        6\n",
            "0.39         6\n",
            "0.22         6\n",
            "0.2          5\n",
            "0.37         4\n",
            "0.275        4\n",
            "0.36         4\n",
            "0.445        4\n",
            "0.285        4\n",
            "0.265        3\n",
            "0.295        3\n",
            "0.255        3\n",
            "0.355        3\n",
            "0.345        2\n",
            "0.315        2\n",
            "0.56         2\n",
            "0.48         2\n",
            "0.235        2\n",
            "0.375        2\n",
            "0.505        2\n",
            "0.215        2\n",
            "0.49         2\n",
            "0.4          2\n",
            "0.44         2\n",
            "0.52         2\n",
            "0.365        1\n",
            "0.55         1\n",
            "0.465        1\n",
            "0.21         1\n",
            "Name: Price, dtype: int64\n",
            "------\n",
            "0       15859\n",
            "1         965\n",
            "None      123\n",
            "Name: Price, dtype: int64\n"
          ]
        }
      ]
    },
    {
      "cell_type": "code",
      "metadata": {
        "id": "ky91OjYVLAHX"
      },
      "source": [
        "# Actualizo la variable\n",
        "\n",
        "df['Price'] = target"
      ],
      "execution_count": null,
      "outputs": []
    },
    {
      "cell_type": "markdown",
      "metadata": {
        "id": "RYe7CN2iUcGp"
      },
      "source": [
        "### Drop"
      ]
    },
    {
      "cell_type": "code",
      "metadata": {
        "id": "wKH4P7aDZBkG"
      },
      "source": [
        "# Drop de las columnas que no aportan valor predictivo.\n",
        "\n",
        "# ID: porque es un numero para ubicar la observacion, y ya contamos con el index\n",
        "# Account_Name: porque son 908 variables categoricas que en principio no aportan nada, ya contamos con el index\n",
        "# Opportunity_Name: porque son 4139 variables categoricas que en principio no aportan nada, ya contamos con el index\n",
        "# Opportunity_ID: porque son 4139 variables categoricas que en principio no aportan nada, ya contamos con el index\n",
        "# Last_Activity: por tener un solo valor.\n",
        "# Submitted_for_Approval: por tener un solo valor.\n",
        "# ASP_(converted)_Currency: por tener un solo valor\n",
        "# Actual_Delivery_Date: por tener un solo valor\n",
        "# Prod_Category_A: por tener un solo valor.\n",
        "# Delivery_Year: porque son años que ya pasaron, no sirven al momento de llevar el modelo al mundo real actual.\n",
        "\n",
        "\n",
        "\n",
        "df.drop(['Submitted_for_Approval', 'Account_Name','Opportunity_Name','Last_Activity',\n",
        "         'ASP_(converted)_Currency','Actual_Delivery_Date','Prod_Category_A','Opportunity_ID','Delivery_Year'], axis=1, inplace=True)"
      ],
      "execution_count": null,
      "outputs": []
    },
    {
      "cell_type": "markdown",
      "metadata": {
        "id": "mlAkHj5i7FHR"
      },
      "source": [
        "### Binning de variables categóricas"
      ]
    },
    {
      "cell_type": "code",
      "metadata": {
        "id": "ijRqlWqNksK9"
      },
      "source": [
        "# Creo una lista con las variables a agrupar a partir de lo explorado visualmente\n",
        "# IMPORTANTE: deben estar en mismo orden que en el diccionario (ver siguientes dos celdas)\n",
        "\n",
        "agrupar = ['Territory','Account_Owner','Opportunity_Type','Last_Modified_By','Product_Family',\n",
        "           'Sales_Contract_No','Source','Billing_Country','Opportunity_Owner','Product_Name']"
      ],
      "execution_count": null,
      "outputs": []
    },
    {
      "cell_type": "code",
      "metadata": {
        "id": "JXhv8H53qD9D"
      },
      "source": [
        "# Diccionario\n",
        "dictionary = {\n",
        "    'Territory':50,\n",
        "    'Account_Owner':37,\n",
        "    'Opportunity_Type':14,\n",
        "    'Last_Modified_By':45,\n",
        "    'Product_Family':59,\n",
        "    'Sales_Contract_No':3,\n",
        "    'Source':10,\n",
        "    'Billing_Country':49,\n",
        "    'Opportunity_Owner':47,\n",
        "    'Product_Name':208\n",
        "\n",
        "}"
      ],
      "execution_count": null,
      "outputs": []
    },
    {
      "cell_type": "code",
      "metadata": {
        "colab": {
          "base_uri": "https://localhost:8080/"
        },
        "id": "MliyCpawVp3u",
        "outputId": "ab63ec6e-562a-4a62-c06e-4cbe4908fbfe"
      },
      "source": [
        "# Agrupacion de categoricas:\n",
        "for i,v in enumerate(agrupar):\n",
        "    name = agrupar[i]\n",
        "    var = df[name]\n",
        "    indice = dictionary[name]\n",
        "    lista = []\n",
        "\n",
        "    for i in var.value_counts().index[0:indice]:\n",
        "        lista.append(i)\n",
        "\n",
        "    new_var = np.where(var.isin(lista),var, 'Otro')\n",
        "    new_var1 = pd.DataFrame(new_var)\n",
        "    print(new_var1)\n",
        "    print(new_var1.value_counts())\n",
        "    print('\\n')\n",
        "    # una vez evaluado (con el print) que el binning se realizo correctamente, agrego la siguiente linea:\n",
        "    df[name] = new_var"
      ],
      "execution_count": null,
      "outputs": [
        {
          "output_type": "stream",
          "name": "stdout",
          "text": [
            "                0\n",
            "0            None\n",
            "1            None\n",
            "2      NW_America\n",
            "3      NW_America\n",
            "4      NW_America\n",
            "...           ...\n",
            "16819     Austria\n",
            "16820     Austria\n",
            "16821     Austria\n",
            "16822  NE_America\n",
            "16823  NE_America\n",
            "\n",
            "[16824 rows x 1 columns]\n",
            "None               4969\n",
            "Germany            1682\n",
            "NW_America         1538\n",
            "Australia          1201\n",
            "India               807\n",
            "NE_America          758\n",
            "Japan               674\n",
            "Netherlands         532\n",
            "SE_America          488\n",
            "France              448\n",
            "Singapore           441\n",
            "United_Kingdom      313\n",
            "Belgium             285\n",
            "Italy               283\n",
            "Spain               268\n",
            "Central_US          254\n",
            "China_(PRC)         218\n",
            "SW_America          205\n",
            "Thailand            173\n",
            "Indonesia           150\n",
            "Austria             145\n",
            "Jordan              100\n",
            "Philippines          95\n",
            "Canada               74\n",
            "Luxembourg           70\n",
            "Portugal             66\n",
            "Otro                 61\n",
            "Poland               59\n",
            "Vietnam              51\n",
            "Cyprus               44\n",
            "New_Zealand          38\n",
            "Denmark              38\n",
            "Taiwan               33\n",
            "Carribean            31\n",
            "Turkey               29\n",
            "UAE_(Dubai)          28\n",
            "Hungary              28\n",
            "Switzerland          21\n",
            "Norway               19\n",
            "South_Korea          15\n",
            "KSA                  13\n",
            "Sweden               12\n",
            "Ireland               9\n",
            "Greece                9\n",
            "Central_America       8\n",
            "Estonia               8\n",
            "South_America         8\n",
            "Kazakhstan            7\n",
            "Pakistan              6\n",
            "Macedonia             6\n",
            "Malta                 6\n",
            "dtype: int64\n",
            "\n",
            "\n",
            "                    0\n",
            "0      Person_Name_51\n",
            "1      Person_Name_51\n",
            "2      Person_Name_64\n",
            "3       Person_Name_8\n",
            "4       Person_Name_8\n",
            "...               ...\n",
            "16819  Person_Name_13\n",
            "16820  Person_Name_13\n",
            "16821  Person_Name_13\n",
            "16822   Person_Name_3\n",
            "16823   Person_Name_3\n",
            "\n",
            "[16824 rows x 1 columns]\n",
            "Person_Name_50    3719\n",
            "Person_Name_13    1325\n",
            "Person_Name_8     1282\n",
            "Person_Name_43    1234\n",
            "Person_Name_18    1093\n",
            "Person_Name_3      867\n",
            "Person_Name_32     679\n",
            "Person_Name_4      661\n",
            "Person_Name_65     625\n",
            "Person_Name_64     552\n",
            "Person_Name_16     439\n",
            "Person_Name_46     381\n",
            "Person_Name_45     357\n",
            "Person_Name_2      333\n",
            "Person_Name_38     322\n",
            "Person_Name_42     304\n",
            "Person_Name_66     252\n",
            "Person_Name_60     226\n",
            "Person_Name_59     201\n",
            "Person_Name_49     200\n",
            "Person_Name_62     179\n",
            "Person_Name_54     178\n",
            "Person_Name_52     172\n",
            "Person_Name_21     166\n",
            "Person_Name_5      152\n",
            "Person_Name_63     135\n",
            "Person_Name_55     129\n",
            "Person_Name_51     108\n",
            "Person_Name_39     104\n",
            "Person_Name_33      86\n",
            "Person_Name_14      74\n",
            "Person_Name_61      69\n",
            "Person_Name_41      51\n",
            "Person_Name_9       50\n",
            "Person_Name_44      50\n",
            "Otro                43\n",
            "Person_Name_58      14\n",
            "Person_Name_26      12\n",
            "dtype: int64\n",
            "\n",
            "\n",
            "                         0\n",
            "0       Opportunity_Type_1\n",
            "1       Opportunity_Type_1\n",
            "2       Opportunity_Type_1\n",
            "3      Opportunity_Type_19\n",
            "4      Opportunity_Type_19\n",
            "...                    ...\n",
            "16819   Opportunity_Type_1\n",
            "16820   Opportunity_Type_1\n",
            "16821   Opportunity_Type_1\n",
            "16822   Opportunity_Type_1\n",
            "16823  Opportunity_Type_19\n",
            "\n",
            "[16824 rows x 1 columns]\n",
            "Opportunity_Type_1     6758\n",
            "Opportunity_Type_7     5760\n",
            "Opportunity_Type_19    1855\n",
            "Opportunity_Type_8     1452\n",
            "Opportunity_Type_12     278\n",
            "Opportunity_Type_3      274\n",
            "Opportunity_Type_20     173\n",
            "Opportunity_Type_2       69\n",
            "Otro                     58\n",
            "Opportunity_Type_4       50\n",
            "Opportunity_Type_10      34\n",
            "Opportunity_Type_9       23\n",
            "Opportunity_Type_14      15\n",
            "Opportunity_Type_5       14\n",
            "Opportunity_Type_18      11\n",
            "dtype: int64\n",
            "\n",
            "\n",
            "                    0\n",
            "0      Person_Name_18\n",
            "1      Person_Name_20\n",
            "2       Person_Name_8\n",
            "3       Person_Name_8\n",
            "4       Person_Name_8\n",
            "...               ...\n",
            "16819  Person_Name_13\n",
            "16820  Person_Name_13\n",
            "16821  Person_Name_13\n",
            "16822   Person_Name_3\n",
            "16823   Person_Name_3\n",
            "\n",
            "[16824 rows x 1 columns]\n",
            "Person_Name_47    8514\n",
            "Person_Name_50    1202\n",
            "Person_Name_43     581\n",
            "Person_Name_13     576\n",
            "Person_Name_8      489\n",
            "Person_Name_18     438\n",
            "Person_Name_33     429\n",
            "Person_Name_19     395\n",
            "Person_Name_3      392\n",
            "Person_Name_4      312\n",
            "Person_Name_6      259\n",
            "Person_Name_16     247\n",
            "Person_Name_32     245\n",
            "Person_Name_41     237\n",
            "Person_Name_64     224\n",
            "Person_Name_39     184\n",
            "Person_Name_46     171\n",
            "Person_Name_2      146\n",
            "Person_Name_49     138\n",
            "Person_Name_40     118\n",
            "Person_Name_66     114\n",
            "Person_Name_38     114\n",
            "Person_Name_51      94\n",
            "Person_Name_62      93\n",
            "Person_Name_60      91\n",
            "Person_Name_48      90\n",
            "Person_Name_23      87\n",
            "Person_Name_5       82\n",
            "Person_Name_59      74\n",
            "Person_Name_65      74\n",
            "Person_Name_54      69\n",
            "Person_Name_44      64\n",
            "Person_Name_55      63\n",
            "Person_Name_14      61\n",
            "Person_Name_52      51\n",
            "Person_Name_63      50\n",
            "Person_Name_45      44\n",
            "Person_Name_61      39\n",
            "Person_Name_11      36\n",
            "Otro                31\n",
            "Person_Name_31      27\n",
            "Person_Name_20      21\n",
            "Person_Name_26      21\n",
            "Person_Name_30      14\n",
            "Person_Name_25      12\n",
            "Person_Name_12      11\n",
            "dtype: int64\n",
            "\n",
            "\n",
            "                        0\n",
            "0       Product_Family_77\n",
            "1       Product_Family_77\n",
            "2                    Otro\n",
            "3      Product_Family_209\n",
            "4      Product_Family_209\n",
            "...                   ...\n",
            "16819   Product_Family_85\n",
            "16820   Product_Family_85\n",
            "16821   Product_Family_85\n",
            "16822  Product_Family_158\n",
            "16823  Product_Family_164\n",
            "\n",
            "[16824 rows x 1 columns]\n",
            "Otro                  1337\n",
            "Product_Family_77     1323\n",
            "Product_Family_133    1249\n",
            "Product_Family_132     760\n",
            "Product_Family_212     629\n",
            "Product_Family_100     619\n",
            "Product_Family_85      594\n",
            "Product_Family_115     540\n",
            "Product_Family_226     524\n",
            "Product_Family_109     499\n",
            "Product_Family_208     474\n",
            "Product_Family_4       474\n",
            "Product_Family_128     436\n",
            "Product_Family_116     421\n",
            "Product_Family_164     396\n",
            "Product_Family_140     385\n",
            "Product_Family_209     380\n",
            "Product_Family_230     350\n",
            "Product_Family_29      341\n",
            "Product_Family_127     297\n",
            "Product_Family_139     278\n",
            "Product_Family_20      266\n",
            "Product_Family_213     257\n",
            "Product_Family_121     246\n",
            "Product_Family_170     238\n",
            "Product_Family_193     233\n",
            "Product_Family_73      216\n",
            "Product_Family_158     201\n",
            "Product_Family_201     180\n",
            "Product_Family_24      167\n",
            "Product_Family_0       165\n",
            "Product_Family_204     162\n",
            "Product_Family_23      157\n",
            "Product_Family_111     140\n",
            "Product_Family_215     132\n",
            "Product_Family_6       121\n",
            "Product_Family_10      116\n",
            "Product_Family_125     113\n",
            "Product_Family_110     113\n",
            "Product_Family_129     101\n",
            "Product_Family_203      99\n",
            "Product_Family_173      95\n",
            "Product_Family_60       94\n",
            "Product_Family_61       87\n",
            "Product_Family_26       82\n",
            "Product_Family_25       77\n",
            "Product_Family_168      74\n",
            "Product_Family_118      66\n",
            "Product_Family_114      61\n",
            "Product_Family_117      54\n",
            "Product_Family_240      49\n",
            "Product_Family_19       48\n",
            "Product_Family_27       46\n",
            "Product_Family_184      40\n",
            "Product_Family_202      39\n",
            "Product_Family_17       39\n",
            "Product_Family_231      37\n",
            "Product_Family_126      36\n",
            "Product_Family_161      36\n",
            "Product_Family_216      35\n",
            "dtype: int64\n",
            "\n",
            "\n",
            "          0\n",
            "0      None\n",
            "1      Otro\n",
            "2      Otro\n",
            "3      None\n",
            "4      None\n",
            "...     ...\n",
            "16819  Otro\n",
            "16820  Otro\n",
            "16821  Otro\n",
            "16822  None\n",
            "16823  None\n",
            "\n",
            "[16824 rows x 1 columns]\n",
            "Otro    9902\n",
            "None    6850\n",
            "479       36\n",
            "108       36\n",
            "dtype: int64\n",
            "\n",
            "\n",
            "               0\n",
            "0           None\n",
            "1           None\n",
            "2       Source_7\n",
            "3      Source_11\n",
            "4      Source_11\n",
            "...          ...\n",
            "16819   Source_7\n",
            "16820   Source_7\n",
            "16821   Source_7\n",
            "16822       None\n",
            "16823       None\n",
            "\n",
            "[16824 rows x 1 columns]\n",
            "None         9411\n",
            "Source_7     2941\n",
            "Source_9     1455\n",
            "Source_11    1419\n",
            "Source_13     783\n",
            "Source_3      414\n",
            "Source_1      137\n",
            "Source_10     106\n",
            "Source_2       86\n",
            "Source_4       43\n",
            "Otro           29\n",
            "dtype: int64\n",
            "\n",
            "\n",
            "                   0\n",
            "0        Netherlands\n",
            "1        Netherlands\n",
            "2      United_States\n",
            "3      United_States\n",
            "4      United_States\n",
            "...              ...\n",
            "16819        Austria\n",
            "16820        Austria\n",
            "16821        Austria\n",
            "16822  United_States\n",
            "16823  United_States\n",
            "\n",
            "[16824 rows x 1 columns]\n",
            "Japan                                     4848\n",
            "United_States                             3761\n",
            "Germany                                   1974\n",
            "Australia                                 1164\n",
            "India                                      671\n",
            "Netherlands                                563\n",
            "Singapore                                  426\n",
            "France                                     396\n",
            "Spain                                      315\n",
            "Italy                                      295\n",
            "United_Kingdom                             284\n",
            "Belgium                                    226\n",
            "China                                      222\n",
            "Thailand                                   193\n",
            "Austria                                    145\n",
            "Indonesia                                  138\n",
            "Luxembourg                                 136\n",
            "Philippines                                131\n",
            "Canada                                     120\n",
            "Sri_Lanka                                  105\n",
            "Jordan                                     104\n",
            "Otro                                        56\n",
            "Poland                                      52\n",
            "Cyprus                                      46\n",
            "New_Zealand                                 39\n",
            "United_Arab_Emirates                        38\n",
            "Viet_Nam                                    37\n",
            "Norway                                      37\n",
            "Taiwan                                      34\n",
            "Portugal                                    27\n",
            "Switzerland                                 26\n",
            "None                                        25\n",
            "Pakistan                                    20\n",
            "Turkey                                      17\n",
            "Puerto_Rico                                 14\n",
            "Korea__Democratic_People's_Republic_of      13\n",
            "South_Africa                                13\n",
            "Ireland                                     13\n",
            "Hungary                                     13\n",
            "Lebanon                                     10\n",
            "Denmark                                     10\n",
            "Czech_Republic                              10\n",
            "Greece                                       9\n",
            "Saudi_Arabia                                 9\n",
            "French_Southern_Territories                  8\n",
            "Sweden                                       8\n",
            "Malta                                        7\n",
            "Brazil                                       6\n",
            "Egypt                                        5\n",
            "Korea__Republic_of                           5\n",
            "dtype: int64\n",
            "\n",
            "\n",
            "                    0\n",
            "0      Person_Name_18\n",
            "1      Person_Name_20\n",
            "2       Person_Name_8\n",
            "3       Person_Name_8\n",
            "4       Person_Name_8\n",
            "...               ...\n",
            "16819  Person_Name_13\n",
            "16820  Person_Name_13\n",
            "16821  Person_Name_13\n",
            "16822   Person_Name_3\n",
            "16823   Person_Name_3\n",
            "\n",
            "[16824 rows x 1 columns]\n",
            "Person_Name_50    3773\n",
            "Person_Name_8     1402\n",
            "Person_Name_13    1252\n",
            "Person_Name_18     982\n",
            "Person_Name_43     831\n",
            "Person_Name_3      827\n",
            "Person_Name_4      684\n",
            "Person_Name_32     678\n",
            "Person_Name_19     615\n",
            "Person_Name_64     508\n",
            "Person_Name_16     446\n",
            "Person_Name_23     422\n",
            "Person_Name_46     329\n",
            "Person_Name_65     322\n",
            "Person_Name_49     285\n",
            "Person_Name_48     256\n",
            "Person_Name_38     250\n",
            "Person_Name_66     238\n",
            "Person_Name_44     227\n",
            "Person_Name_39     211\n",
            "Person_Name_60     206\n",
            "Person_Name_62     174\n",
            "Person_Name_52     173\n",
            "Person_Name_54     171\n",
            "Person_Name_5      155\n",
            "Person_Name_59     134\n",
            "Person_Name_45     128\n",
            "Person_Name_2      118\n",
            "Person_Name_41     113\n",
            "Person_Name_51     111\n",
            "Person_Name_33      87\n",
            "Person_Name_55      83\n",
            "Person_Name_14      82\n",
            "Person_Name_11      76\n",
            "Person_Name_30      68\n",
            "Person_Name_63      64\n",
            "Person_Name_40      50\n",
            "Person_Name_25      49\n",
            "Person_Name_20      48\n",
            "Person_Name_22      43\n",
            "Person_Name_26      33\n",
            "Otro                25\n",
            "Person_Name_37      21\n",
            "Person_Name_42      19\n",
            "Person_Name_12      19\n",
            "Person_Name_34      14\n",
            "Person_Name_29      11\n",
            "Person_Name_61      11\n",
            "dtype: int64\n",
            "\n",
            "\n",
            "                      0\n",
            "0       Product_Name_99\n",
            "1      Product_Name_100\n",
            "2       Product_Name_91\n",
            "3      Product_Name_432\n",
            "4      Product_Name_432\n",
            "...                 ...\n",
            "16819  Product_Name_111\n",
            "16820  Product_Name_111\n",
            "16821  Product_Name_111\n",
            "16822  Product_Name_287\n",
            "16823  Product_Name_307\n",
            "\n",
            "[16824 rows x 1 columns]\n",
            "Product_Name_100    973\n",
            "Product_Name_226    836\n",
            "Otro                764\n",
            "Product_Name_231    577\n",
            "Product_Name_491    524\n",
            "                   ... \n",
            "Product_Name_368     10\n",
            "Product_Name_18      10\n",
            "Product_Name_155     10\n",
            "Product_Name_5       10\n",
            "Product_Name_455     10\n",
            "Length: 209, dtype: int64\n",
            "\n",
            "\n"
          ]
        }
      ]
    },
    {
      "cell_type": "code",
      "metadata": {
        "id": "WrddJuwFCl96"
      },
      "source": [
        "# Realizo una copia para luego copiar la agrupacion con el df de validacion.\n",
        "df_agrupadas = df.copy()\n",
        "df_agrupadas.drop('Stage', axis=1, inplace=True)"
      ],
      "execution_count": null,
      "outputs": []
    },
    {
      "cell_type": "markdown",
      "metadata": {
        "id": "evEGP8fhC4I5"
      },
      "source": [
        "# Realizo lo mismo con el df de Validacion"
      ]
    },
    {
      "cell_type": "code",
      "metadata": {
        "id": "4te7h9B1C9tv"
      },
      "source": [
        "# Lectura del dataset \n",
        "\n",
        "df = pd.read_csv('/content/drive/MyDrive/ML_Desafio/Validacion_ECI_2020.csv')"
      ],
      "execution_count": null,
      "outputs": []
    },
    {
      "cell_type": "code",
      "metadata": {
        "colab": {
          "base_uri": "https://localhost:8080/",
          "height": 300
        },
        "id": "hEYnTjcUDJe4",
        "outputId": "06f90e7d-6e65-4372-a2ae-c8b190f2b592"
      },
      "source": [
        "# Algunas columnas y valores tienen espacios y comas. Los quito o reemplazo por guiones bajos.\n",
        "\n",
        "df = df.replace(' ','_', regex=True)\n",
        "df = df.replace(',','_', regex=True)\n",
        "df.columns = df.columns.str.replace(\"[ ]\", \"\")\n",
        "df.columns = df.columns.str.replace(\"[,]\", \"_\")\n",
        "df.head()"
      ],
      "execution_count": null,
      "outputs": [
        {
          "output_type": "execute_result",
          "data": {
            "text/html": [
              "<div>\n",
              "<style scoped>\n",
              "    .dataframe tbody tr th:only-of-type {\n",
              "        vertical-align: middle;\n",
              "    }\n",
              "\n",
              "    .dataframe tbody tr th {\n",
              "        vertical-align: top;\n",
              "    }\n",
              "\n",
              "    .dataframe thead th {\n",
              "        text-align: right;\n",
              "    }\n",
              "</style>\n",
              "<table border=\"1\" class=\"dataframe\">\n",
              "  <thead>\n",
              "    <tr style=\"text-align: right;\">\n",
              "      <th></th>\n",
              "      <th>ID</th>\n",
              "      <th>Region</th>\n",
              "      <th>Territory</th>\n",
              "      <th>Pricing_Delivery_Terms_Quote_Appr</th>\n",
              "      <th>Pricing_Delivery_Terms_Approved</th>\n",
              "      <th>Bureaucratic_Code_0_Approval</th>\n",
              "      <th>Bureaucratic_Code_0_Approved</th>\n",
              "      <th>Submitted_for_Approval</th>\n",
              "      <th>Bureaucratic_Code</th>\n",
              "      <th>Account_Created_Date</th>\n",
              "      <th>Source</th>\n",
              "      <th>Billing_Country</th>\n",
              "      <th>Account_Name</th>\n",
              "      <th>Opportunity_Name</th>\n",
              "      <th>Opportunity_ID</th>\n",
              "      <th>Sales_Contract_No</th>\n",
              "      <th>Account_Owner</th>\n",
              "      <th>Opportunity_Owner</th>\n",
              "      <th>Account_Type</th>\n",
              "      <th>Opportunity_Type</th>\n",
              "      <th>Quote_Type</th>\n",
              "      <th>Delivery_Terms</th>\n",
              "      <th>Opportunity_Created_Date</th>\n",
              "      <th>Brand</th>\n",
              "      <th>Product_Type</th>\n",
              "      <th>Size</th>\n",
              "      <th>Product_Category_B</th>\n",
              "      <th>Price</th>\n",
              "      <th>Currency</th>\n",
              "      <th>Last_Activity</th>\n",
              "      <th>Quote_Expiry_Date</th>\n",
              "      <th>Last_Modified_Date</th>\n",
              "      <th>Last_Modified_By</th>\n",
              "      <th>Product_Family</th>\n",
              "      <th>Product_Name</th>\n",
              "      <th>ASP_Currency</th>\n",
              "      <th>ASP</th>\n",
              "      <th>ASP_(converted)_Currency</th>\n",
              "      <th>ASP_(converted)</th>\n",
              "      <th>Planned_Delivery_Start_Date</th>\n",
              "      <th>Planned_Delivery_End_Date</th>\n",
              "      <th>Month</th>\n",
              "      <th>Delivery_Quarter</th>\n",
              "      <th>Delivery_Year</th>\n",
              "      <th>Actual_Delivery_Date</th>\n",
              "      <th>TRF</th>\n",
              "      <th>Total_Amount_Currency</th>\n",
              "      <th>Total_Amount</th>\n",
              "      <th>Total_Taxable_Amount_Currency</th>\n",
              "      <th>Total_Taxable_Amount</th>\n",
              "      <th>Prod_Category_A</th>\n",
              "    </tr>\n",
              "  </thead>\n",
              "  <tbody>\n",
              "    <tr>\n",
              "      <th>0</th>\n",
              "      <td>6140</td>\n",
              "      <td>EMEA</td>\n",
              "      <td>Germany</td>\n",
              "      <td>1</td>\n",
              "      <td>1</td>\n",
              "      <td>1</td>\n",
              "      <td>1</td>\n",
              "      <td>0</td>\n",
              "      <td>Bureaucratic_Code_4</td>\n",
              "      <td>7/5/2017</td>\n",
              "      <td>Source_7</td>\n",
              "      <td>Germany</td>\n",
              "      <td>Account_Name_978</td>\n",
              "      <td>Opportunity_Name_6118</td>\n",
              "      <td>10689</td>\n",
              "      <td>6436</td>\n",
              "      <td>Person_Name_13</td>\n",
              "      <td>Person_Name_13</td>\n",
              "      <td>Account_Type_0</td>\n",
              "      <td>Opportunity_Type_8</td>\n",
              "      <td>Non_Binding</td>\n",
              "      <td>Delivery_Terms_2</td>\n",
              "      <td>4/12/2019</td>\n",
              "      <td>None</td>\n",
              "      <td>None</td>\n",
              "      <td>None</td>\n",
              "      <td>None</td>\n",
              "      <td>None</td>\n",
              "      <td>None</td>\n",
              "      <td>NaT</td>\n",
              "      <td>4/30/2019</td>\n",
              "      <td>4/12/2019</td>\n",
              "      <td>Person_Name_13</td>\n",
              "      <td>Product_Family_171</td>\n",
              "      <td>Product_Name_332</td>\n",
              "      <td>EUR</td>\n",
              "      <td>0.325</td>\n",
              "      <td>USD</td>\n",
              "      <td>0.36761</td>\n",
              "      <td>5/1/2019</td>\n",
              "      <td>5/31/2019</td>\n",
              "      <td>2019_-_5</td>\n",
              "      <td>Q2</td>\n",
              "      <td>2019</td>\n",
              "      <td>NaT</td>\n",
              "      <td>0</td>\n",
              "      <td>EUR</td>\n",
              "      <td>162240.0</td>\n",
              "      <td>EUR</td>\n",
              "      <td>367419.0</td>\n",
              "      <td>Prod_Category_A_None</td>\n",
              "    </tr>\n",
              "    <tr>\n",
              "      <th>1</th>\n",
              "      <td>6146</td>\n",
              "      <td>EMEA</td>\n",
              "      <td>Germany</td>\n",
              "      <td>1</td>\n",
              "      <td>1</td>\n",
              "      <td>1</td>\n",
              "      <td>1</td>\n",
              "      <td>0</td>\n",
              "      <td>Bureaucratic_Code_4</td>\n",
              "      <td>7/5/2017</td>\n",
              "      <td>Source_7</td>\n",
              "      <td>Germany</td>\n",
              "      <td>Account_Name_978</td>\n",
              "      <td>Opportunity_Name_6118</td>\n",
              "      <td>10689</td>\n",
              "      <td>6436</td>\n",
              "      <td>Person_Name_13</td>\n",
              "      <td>Person_Name_13</td>\n",
              "      <td>Account_Type_0</td>\n",
              "      <td>Opportunity_Type_8</td>\n",
              "      <td>Non_Binding</td>\n",
              "      <td>Delivery_Terms_2</td>\n",
              "      <td>4/12/2019</td>\n",
              "      <td>None</td>\n",
              "      <td>None</td>\n",
              "      <td>None</td>\n",
              "      <td>None</td>\n",
              "      <td>None</td>\n",
              "      <td>None</td>\n",
              "      <td>NaT</td>\n",
              "      <td>4/30/2019</td>\n",
              "      <td>4/12/2019</td>\n",
              "      <td>Person_Name_13</td>\n",
              "      <td>Product_Family_167</td>\n",
              "      <td>Product_Name_315</td>\n",
              "      <td>EUR</td>\n",
              "      <td>0.320</td>\n",
              "      <td>USD</td>\n",
              "      <td>0.36195</td>\n",
              "      <td>5/1/2019</td>\n",
              "      <td>5/31/2019</td>\n",
              "      <td>2019_-_5</td>\n",
              "      <td>Q2</td>\n",
              "      <td>2019</td>\n",
              "      <td>NaT</td>\n",
              "      <td>0</td>\n",
              "      <td>EUR</td>\n",
              "      <td>78624.0</td>\n",
              "      <td>EUR</td>\n",
              "      <td>367419.0</td>\n",
              "      <td>Prod_Category_A_None</td>\n",
              "    </tr>\n",
              "    <tr>\n",
              "      <th>2</th>\n",
              "      <td>6151</td>\n",
              "      <td>EMEA</td>\n",
              "      <td>Germany</td>\n",
              "      <td>1</td>\n",
              "      <td>1</td>\n",
              "      <td>1</td>\n",
              "      <td>1</td>\n",
              "      <td>0</td>\n",
              "      <td>Bureaucratic_Code_4</td>\n",
              "      <td>7/5/2017</td>\n",
              "      <td>Source_7</td>\n",
              "      <td>Germany</td>\n",
              "      <td>Account_Name_978</td>\n",
              "      <td>Opportunity_Name_6118</td>\n",
              "      <td>10689</td>\n",
              "      <td>6436</td>\n",
              "      <td>Person_Name_13</td>\n",
              "      <td>Person_Name_13</td>\n",
              "      <td>Account_Type_0</td>\n",
              "      <td>Opportunity_Type_8</td>\n",
              "      <td>Non_Binding</td>\n",
              "      <td>Delivery_Terms_2</td>\n",
              "      <td>4/12/2019</td>\n",
              "      <td>None</td>\n",
              "      <td>None</td>\n",
              "      <td>None</td>\n",
              "      <td>None</td>\n",
              "      <td>None</td>\n",
              "      <td>None</td>\n",
              "      <td>NaT</td>\n",
              "      <td>4/30/2019</td>\n",
              "      <td>4/12/2019</td>\n",
              "      <td>Person_Name_13</td>\n",
              "      <td>Product_Family_140</td>\n",
              "      <td>Product_Name_241</td>\n",
              "      <td>EUR</td>\n",
              "      <td>0.275</td>\n",
              "      <td>USD</td>\n",
              "      <td>0.31105</td>\n",
              "      <td>5/1/2019</td>\n",
              "      <td>5/31/2019</td>\n",
              "      <td>2019_-_5</td>\n",
              "      <td>Q2</td>\n",
              "      <td>2019</td>\n",
              "      <td>NaT</td>\n",
              "      <td>0</td>\n",
              "      <td>EUR</td>\n",
              "      <td>126555.0</td>\n",
              "      <td>EUR</td>\n",
              "      <td>367419.0</td>\n",
              "      <td>Prod_Category_A_None</td>\n",
              "    </tr>\n",
              "    <tr>\n",
              "      <th>3</th>\n",
              "      <td>6118</td>\n",
              "      <td>EMEA</td>\n",
              "      <td>Germany</td>\n",
              "      <td>1</td>\n",
              "      <td>1</td>\n",
              "      <td>1</td>\n",
              "      <td>1</td>\n",
              "      <td>0</td>\n",
              "      <td>Bureaucratic_Code_4</td>\n",
              "      <td>7/5/2017</td>\n",
              "      <td>Source_7</td>\n",
              "      <td>Germany</td>\n",
              "      <td>Account_Name_978</td>\n",
              "      <td>Opportunity_Name_6117</td>\n",
              "      <td>10690</td>\n",
              "      <td>6504</td>\n",
              "      <td>Person_Name_13</td>\n",
              "      <td>Person_Name_13</td>\n",
              "      <td>Account_Type_0</td>\n",
              "      <td>Opportunity_Type_8</td>\n",
              "      <td>Non_Binding</td>\n",
              "      <td>Delivery_Terms_2</td>\n",
              "      <td>4/12/2019</td>\n",
              "      <td>None</td>\n",
              "      <td>None</td>\n",
              "      <td>None</td>\n",
              "      <td>None</td>\n",
              "      <td>None</td>\n",
              "      <td>None</td>\n",
              "      <td>NaT</td>\n",
              "      <td>4/30/2019</td>\n",
              "      <td>4/25/2019</td>\n",
              "      <td>Person_Name_13</td>\n",
              "      <td>Product_Family_171</td>\n",
              "      <td>Product_Name_328</td>\n",
              "      <td>EUR</td>\n",
              "      <td>0.325</td>\n",
              "      <td>USD</td>\n",
              "      <td>0.36761</td>\n",
              "      <td>6/1/2019</td>\n",
              "      <td>6/28/2019</td>\n",
              "      <td>2019_-_6</td>\n",
              "      <td>Q2</td>\n",
              "      <td>2019</td>\n",
              "      <td>NaT</td>\n",
              "      <td>1</td>\n",
              "      <td>EUR</td>\n",
              "      <td>243360.0</td>\n",
              "      <td>EUR</td>\n",
              "      <td>757783.5</td>\n",
              "      <td>Prod_Category_A_None</td>\n",
              "    </tr>\n",
              "    <tr>\n",
              "      <th>4</th>\n",
              "      <td>6124</td>\n",
              "      <td>EMEA</td>\n",
              "      <td>Germany</td>\n",
              "      <td>1</td>\n",
              "      <td>1</td>\n",
              "      <td>1</td>\n",
              "      <td>1</td>\n",
              "      <td>0</td>\n",
              "      <td>Bureaucratic_Code_4</td>\n",
              "      <td>7/5/2017</td>\n",
              "      <td>Source_7</td>\n",
              "      <td>Germany</td>\n",
              "      <td>Account_Name_978</td>\n",
              "      <td>Opportunity_Name_6117</td>\n",
              "      <td>10690</td>\n",
              "      <td>6504</td>\n",
              "      <td>Person_Name_13</td>\n",
              "      <td>Person_Name_13</td>\n",
              "      <td>Account_Type_0</td>\n",
              "      <td>Opportunity_Type_8</td>\n",
              "      <td>Non_Binding</td>\n",
              "      <td>Delivery_Terms_2</td>\n",
              "      <td>4/12/2019</td>\n",
              "      <td>None</td>\n",
              "      <td>None</td>\n",
              "      <td>None</td>\n",
              "      <td>None</td>\n",
              "      <td>None</td>\n",
              "      <td>None</td>\n",
              "      <td>NaT</td>\n",
              "      <td>4/30/2019</td>\n",
              "      <td>4/25/2019</td>\n",
              "      <td>Person_Name_13</td>\n",
              "      <td>Product_Family_167</td>\n",
              "      <td>Product_Name_315</td>\n",
              "      <td>EUR</td>\n",
              "      <td>0.320</td>\n",
              "      <td>USD</td>\n",
              "      <td>0.36195</td>\n",
              "      <td>6/1/2019</td>\n",
              "      <td>6/29/2019</td>\n",
              "      <td>2019_-_6</td>\n",
              "      <td>Q2</td>\n",
              "      <td>2019</td>\n",
              "      <td>NaT</td>\n",
              "      <td>0</td>\n",
              "      <td>EUR</td>\n",
              "      <td>157248.0</td>\n",
              "      <td>EUR</td>\n",
              "      <td>757783.5</td>\n",
              "      <td>Prod_Category_A_None</td>\n",
              "    </tr>\n",
              "  </tbody>\n",
              "</table>\n",
              "</div>"
            ],
            "text/plain": [
              "     ID Region  ... Total_Taxable_Amount       Prod_Category_A\n",
              "0  6140   EMEA  ...             367419.0  Prod_Category_A_None\n",
              "1  6146   EMEA  ...             367419.0  Prod_Category_A_None\n",
              "2  6151   EMEA  ...             367419.0  Prod_Category_A_None\n",
              "3  6118   EMEA  ...             757783.5  Prod_Category_A_None\n",
              "4  6124   EMEA  ...             757783.5  Prod_Category_A_None\n",
              "\n",
              "[5 rows x 51 columns]"
            ]
          },
          "metadata": {},
          "execution_count": 1517
        }
      ]
    },
    {
      "cell_type": "code",
      "metadata": {
        "colab": {
          "base_uri": "https://localhost:8080/"
        },
        "id": "1d3hef4kDJyJ",
        "outputId": "dde66f53-a142-4970-9ccb-e005857ca671"
      },
      "source": [
        "# Comienzo con ASP. Debido a la presencia de Outliers, escojo la estrategia de imputar por la mediana.\n",
        "\n",
        "# Importo la funcion\n",
        "from sklearn.impute import SimpleImputer\n",
        "\n",
        "# Separo la variable a imputar\n",
        "variable = df[['ASP']]\n",
        "\n",
        "# Imputo con la mediana\n",
        "imputer = SimpleImputer(missing_values=np.nan, strategy='median')\n",
        "imputer.fit(variable[['ASP']])\n",
        "variable = imputer.transform(variable[['ASP']]) \n",
        "\n",
        "\n",
        "# Print de media, mediana max y min de la variable imputada y la original para evaluar que sean similares. \n",
        "print(variable.mean())\n",
        "print(df['ASP'].mean())\n",
        "print('-----')\n",
        "print(np.median(variable))\n",
        "print(df['ASP'].median())\n",
        "print('-----')\n",
        "print(variable.max())\n",
        "print(df['ASP'].max())\n",
        "print('-----')\n",
        "print(variable.min())\n",
        "print(df['ASP'].min())\n",
        "print('-----')\n",
        "print(variable.std())\n",
        "print(df['ASP'].std())"
      ],
      "execution_count": null,
      "outputs": [
        {
          "output_type": "stream",
          "name": "stdout",
          "text": [
            "2.450531164249314\n",
            "2.5217126064045443\n",
            "-----\n",
            "0.36\n",
            "0.36\n",
            "-----\n",
            "66.0\n",
            "66.0\n",
            "-----\n",
            "0.0\n",
            "0.0\n",
            "-----\n",
            "8.99366656785215\n",
            "9.138935649109033\n"
          ]
        }
      ]
    },
    {
      "cell_type": "code",
      "metadata": {
        "id": "VU2Xbe0jDJ3i"
      },
      "source": [
        "# Imputo la variable original\n",
        "df['ASP'] = variable"
      ],
      "execution_count": null,
      "outputs": []
    },
    {
      "cell_type": "code",
      "metadata": {
        "colab": {
          "base_uri": "https://localhost:8080/"
        },
        "id": "2bT5zvZgDJ7u",
        "outputId": "86cbfedc-f362-482e-a8e9-aee5a3d634dc"
      },
      "source": [
        "# Continuo con ASP_(converted). Debido a la presencia de outliers, escojo la estrategia de imputar por la mediana.\n",
        "\n",
        "# Separo la variable a imputar\n",
        "variable = df[['ASP_(converted)']]\n",
        "\n",
        "\n",
        "# Imputo con la mediana\n",
        "imputer = SimpleImputer(missing_values=np.nan, strategy='median')\n",
        "imputer.fit(variable[['ASP_(converted)']])\n",
        "variable = imputer.transform(variable[['ASP_(converted)']]) \n",
        "\n",
        "\n",
        "# printeo media, mediana max y min de la variable imputada y la original para evaluar que sean similares\n",
        "print(variable.mean())\n",
        "print(df['ASP_(converted)'].mean())\n",
        "print('-----')\n",
        "print(np.median(variable))\n",
        "print(df['ASP_(converted)'].median())\n",
        "print('-----')\n",
        "print(variable.max())\n",
        "print(df['ASP_(converted)'].max())\n",
        "print('-----')\n",
        "print(variable.min())\n",
        "print(df['ASP_(converted)'].min())\n",
        "print('-----')\n",
        "print(variable.std())\n",
        "print(df['ASP_(converted)'].std())"
      ],
      "execution_count": null,
      "outputs": [
        {
          "output_type": "stream",
          "name": "stdout",
          "text": [
            "0.3730060329282634\n",
            "0.37344888123226627\n",
            "-----\n",
            "0.36\n",
            "0.36\n",
            "-----\n",
            "40.71938\n",
            "40.71938\n",
            "-----\n",
            "0.0\n",
            "0.0\n",
            "-----\n",
            "0.8021581440216438\n",
            "0.8158620767525693\n"
          ]
        }
      ]
    },
    {
      "cell_type": "code",
      "metadata": {
        "id": "Qrf2_HmrDKAr"
      },
      "source": [
        "# Imputo la variable original\n",
        "\n",
        "df['ASP_(converted)'] = variable"
      ],
      "execution_count": null,
      "outputs": []
    },
    {
      "cell_type": "code",
      "metadata": {
        "id": "Ko4V77TnDULx"
      },
      "source": [
        "# Elimino el resto de las filas con datos faltantes\n",
        "\n",
        "df.dropna(inplace = True)"
      ],
      "execution_count": null,
      "outputs": []
    },
    {
      "cell_type": "code",
      "metadata": {
        "id": "kgKn4qHgDUPx"
      },
      "source": [
        "# Dropeo de valores \"NaN\" ya que se encuentra en muchas variables numericas.\n",
        "\n",
        "nan_value = float(\"NaN\")\n",
        "df.replace(\"\", nan_value, inplace=True)\n",
        "df.dropna(inplace=True)"
      ],
      "execution_count": null,
      "outputs": []
    },
    {
      "cell_type": "code",
      "metadata": {
        "colab": {
          "base_uri": "https://localhost:8080/"
        },
        "id": "2ikjCZvn37Fy",
        "outputId": "f5ddc3b7-05e1-4615-af2c-bcc4bec7fb50"
      },
      "source": [
        "df.shape"
      ],
      "execution_count": null,
      "outputs": [
        {
          "output_type": "execute_result",
          "data": {
            "text/plain": [
              "(2551, 51)"
            ]
          },
          "metadata": {},
          "execution_count": 1524
        }
      ]
    },
    {
      "cell_type": "code",
      "metadata": {
        "colab": {
          "base_uri": "https://localhost:8080/"
        },
        "id": "i3CtolC7DUXX",
        "outputId": "01cc3bcf-c06e-49b9-cb3b-e50d6714fea7"
      },
      "source": [
        "# Transformo la variable Brand a una dummy.\n",
        "\n",
        "target = df['Brand'].copy()\n",
        "\n",
        "\n",
        "for i,v in enumerate(target):\n",
        "\n",
        "    if v == 'None':\n",
        "       target[i] = 0\n",
        "       \n",
        "    elif v != 'None':\n",
        "      target[i] = 1\n",
        "\n",
        "target.value_counts()\n"
      ],
      "execution_count": null,
      "outputs": [
        {
          "output_type": "execute_result",
          "data": {
            "text/plain": [
              "0    2182\n",
              "1     369\n",
              "Name: Brand, dtype: int64"
            ]
          },
          "metadata": {},
          "execution_count": 1525
        }
      ]
    },
    {
      "cell_type": "code",
      "metadata": {
        "id": "aUaXHMCCDUbQ"
      },
      "source": [
        "# Actualizo la variable\n",
        "\n",
        "df['Brand'] = target"
      ],
      "execution_count": null,
      "outputs": []
    },
    {
      "cell_type": "code",
      "metadata": {
        "colab": {
          "base_uri": "https://localhost:8080/"
        },
        "id": "OU5PVuQ7DUfJ",
        "outputId": "5a78ed3c-8c5a-4aba-eb07-c770da1f1746"
      },
      "source": [
        "# Transformo la variable Product_Type a una dummy.\n",
        "\n",
        "target = df['Product_Type'].copy()\n",
        "\n",
        "\n",
        "for i,v in enumerate(target):\n",
        "\n",
        "    if v == 'None':\n",
        "       target[i] = 0\n",
        "       \n",
        "    elif v != 'None':\n",
        "      target[i] = 1\n",
        "\n",
        "print(df['Product_Type'].value_counts())\n",
        "print('------')\n",
        "print(target.value_counts())"
      ],
      "execution_count": null,
      "outputs": [
        {
          "output_type": "stream",
          "name": "stdout",
          "text": [
            "None              2187\n",
            "Other              158\n",
            "Product_Type_1     113\n",
            "Product_Type_4      34\n",
            "Product_Type_0      28\n",
            "Product_Type_3      25\n",
            "Product_Type_2       6\n",
            "Name: Product_Type, dtype: int64\n",
            "------\n",
            "0    2187\n",
            "1     364\n",
            "Name: Product_Type, dtype: int64\n"
          ]
        }
      ]
    },
    {
      "cell_type": "code",
      "metadata": {
        "id": "J1tImWVXDUjC"
      },
      "source": [
        "# Actualizo la variable\n",
        "\n",
        "df['Product_Type'] = target"
      ],
      "execution_count": null,
      "outputs": []
    },
    {
      "cell_type": "code",
      "metadata": {
        "colab": {
          "base_uri": "https://localhost:8080/"
        },
        "id": "h469Xz4dDUnK",
        "outputId": "05400dc3-60b1-409b-b969-9599131cfd89"
      },
      "source": [
        "# Transformo la variable Size a una dummy numerica.\n",
        "\n",
        "target = df['Size'].copy()\n",
        "\n",
        "for i,v in enumerate(target):\n",
        "\n",
        "    if v == 'None':\n",
        "       target[i] = 0\n",
        "       \n",
        "    elif v != 'None':\n",
        "      target[i] = 1\n",
        "\n",
        "print(df['Size'].value_counts())\n",
        "print('------')\n",
        "print(target.value_counts())"
      ],
      "execution_count": null,
      "outputs": [
        {
          "output_type": "stream",
          "name": "stdout",
          "text": [
            "None      2190\n",
            "Size_3     175\n",
            "Size_4      87\n",
            "Other       84\n",
            "Size_0      10\n",
            "Size_1       5\n",
            "Name: Size, dtype: int64\n",
            "------\n",
            "0    2190\n",
            "1     361\n",
            "Name: Size, dtype: int64\n"
          ]
        }
      ]
    },
    {
      "cell_type": "code",
      "metadata": {
        "id": "XH0uUvWMDUrU"
      },
      "source": [
        "# actualizo la variable\n",
        "\n",
        "df['Size'] = target"
      ],
      "execution_count": null,
      "outputs": []
    },
    {
      "cell_type": "code",
      "metadata": {
        "colab": {
          "base_uri": "https://localhost:8080/"
        },
        "id": "MQ2gVR57DUvx",
        "outputId": "0f3d9b52-5844-4805-8f91-5ec1ec9e2663"
      },
      "source": [
        "# Transformo la variable Product_Category_B a una dummy numerica.\n",
        "\n",
        "target = df['Product_Category_B'].copy()\n",
        "\n",
        "for i,v in enumerate(target):\n",
        "\n",
        "    if v == 'None':\n",
        "       target[i] = 0\n",
        "       \n",
        "    elif v != 'None':\n",
        "      target[i] = 1\n",
        "\n",
        "print(df['Product_Category_B'].value_counts())\n",
        "print('------')\n",
        "print(target.value_counts())"
      ],
      "execution_count": null,
      "outputs": [
        {
          "output_type": "stream",
          "name": "stdout",
          "text": [
            "None                     2190\n",
            "Other                     177\n",
            "Product_Category_B_11      36\n",
            "Product_Category_B_7       17\n",
            "Product_Category_B_24      17\n",
            "Product_Category_B_23      12\n",
            "Product_Category_B_5       12\n",
            "Product_Category_B_4       11\n",
            "Product_Category_B_9       10\n",
            "Product_Category_B_3        8\n",
            "Product_Category_B_14       8\n",
            "Product_Category_B_10       8\n",
            "Product_Category_B_6        6\n",
            "Product_Category_B_22       6\n",
            "Product_Category_B_21       5\n",
            "Product_Category_B_17       4\n",
            "Product_Category_B_16       4\n",
            "Product_Category_B_13       4\n",
            "Product_Category_B_1        3\n",
            "Product_Category_B_2        3\n",
            "Product_Category_B_8        3\n",
            "Product_Category_B_12       2\n",
            "Product_Category_B_19       2\n",
            "Product_Category_B_20       1\n",
            "Product_Category_B_25       1\n",
            "Product_Category_B_15       1\n",
            "Name: Product_Category_B, dtype: int64\n",
            "------\n",
            "0    2190\n",
            "1     361\n",
            "Name: Product_Category_B, dtype: int64\n"
          ]
        }
      ]
    },
    {
      "cell_type": "code",
      "metadata": {
        "id": "IclpmIooDUz3"
      },
      "source": [
        "# Actualizo la variable\n",
        "\n",
        "df['Product_Category_B'] = target"
      ],
      "execution_count": null,
      "outputs": []
    },
    {
      "cell_type": "code",
      "metadata": {
        "colab": {
          "base_uri": "https://localhost:8080/"
        },
        "id": "nWWY_v6fDU1_",
        "outputId": "dc370d3e-0f6d-484b-8c55-564758119b0a"
      },
      "source": [
        "# Transformo la variable Price a una dummy.\n",
        "\n",
        "target = df['Price'].copy()\n",
        "\n",
        "for i,v in enumerate(target):\n",
        "\n",
        "    if v == 'None':\n",
        "       target[i] = 0\n",
        "       \n",
        "    elif v != 'None':\n",
        "      target[i] = 1\n",
        "\n",
        "print(df['Price'].value_counts())\n",
        "print('------')\n",
        "print(target.value_counts())"
      ],
      "execution_count": null,
      "outputs": [
        {
          "output_type": "stream",
          "name": "stdout",
          "text": [
            "None     2193\n",
            "Other     198\n",
            "0.37       20\n",
            "0.225      11\n",
            "0.235      11\n",
            "0.4        11\n",
            "0.26       10\n",
            "0.28        8\n",
            "0.29        7\n",
            "0.27        6\n",
            "0.25        6\n",
            "0.32        6\n",
            "0.35        6\n",
            "0.255       5\n",
            "0.23        5\n",
            "0.38        4\n",
            "0.24        4\n",
            "0.245       3\n",
            "0.305       3\n",
            "0.275       3\n",
            "0.435       3\n",
            "0.45        3\n",
            "0.44        2\n",
            "0.5         2\n",
            "0.22        2\n",
            "0.41        2\n",
            "0.2         2\n",
            "0.3         2\n",
            "0.295       1\n",
            "0.48        1\n",
            "0.49        1\n",
            "0.355       1\n",
            "0.36        1\n",
            "0.405       1\n",
            "0.325       1\n",
            "0.31        1\n",
            "0.205       1\n",
            "0.42        1\n",
            "0.285       1\n",
            "0.33        1\n",
            "0.46        1\n",
            "Name: Price, dtype: int64\n",
            "------\n",
            "0    2193\n",
            "1     358\n",
            "Name: Price, dtype: int64\n"
          ]
        }
      ]
    },
    {
      "cell_type": "code",
      "metadata": {
        "id": "WfwapFdfDKFY"
      },
      "source": [
        "# Actualizo la variable\n",
        "\n",
        "df['Price'] = target"
      ],
      "execution_count": null,
      "outputs": []
    },
    {
      "cell_type": "code",
      "metadata": {
        "id": "SBr6NFOoDKJG"
      },
      "source": [
        "# Drop de las columnas que no aportan valor predictivo.\n",
        "\n",
        "# Account_Name: porque son 908 variables categoricas que en principio no aportan nada, ya contamos con el index\n",
        "# Opportunity_Name: porque son 4139 variables categoricas que en principio no aportan nada, ya contamos con el index\n",
        "# Last_Activity: por tener un solo valor.\n",
        "# Submitted_for_Approval: por tener un solo valor.\n",
        "# ASP_(converted)_Currency: por tener un solo valor\n",
        "# Actual_Delivery_Date: por tener un solo valor\n",
        "# Prod_Category_A: por tener un solo valor.\n",
        "# Delivery_Year: porque son años que ya pasaron, no sirven al momento de llevar el modelo al mundo real actual.\n",
        "\n",
        "\n",
        "\n",
        "df.drop(['Submitted_for_Approval', 'Account_Name','Opportunity_Name','Last_Activity',\n",
        "         'ASP_(converted)_Currency','Actual_Delivery_Date','Prod_Category_A','Delivery_Year'], axis=1, inplace=True)"
      ],
      "execution_count": null,
      "outputs": []
    },
    {
      "cell_type": "markdown",
      "metadata": {
        "id": "Wslr3rfzELIe"
      },
      "source": [
        "# Copiar binning de categoricas del df de entrenamiento"
      ]
    },
    {
      "cell_type": "code",
      "metadata": {
        "id": "wSTI4K8-EPv2"
      },
      "source": [
        "# Copiado del binning categorico\n",
        "\n",
        "for i in agrupar:\n",
        "    df_var = df[i]\n",
        "    df_agrupadas_var = df_agrupadas[i]\n",
        "    lista = []\n",
        "\n",
        "    for i2 in df_var.values:\n",
        "        if i2 in df_agrupadas_var.values:\n",
        "           lista.append(i2)\n",
        "        else:\n",
        "          lista.append('Otro')\n",
        "\n",
        "    df[i] = lista          "
      ],
      "execution_count": null,
      "outputs": []
    },
    {
      "cell_type": "code",
      "metadata": {
        "id": "Ua7Eb1L5JpNR"
      },
      "source": [
        "# Evaluo haberlo hecho correctamente\n",
        "for i in agrupar:\n",
        "    df_var = df[i]\n",
        "    df_agrupadas_var = df_agrupadas[i]\n",
        "\n",
        "\n",
        "    for i in df_var.values:\n",
        "        if i in df_agrupadas_var.values:\n",
        "           2+2\n",
        "        else:\n",
        "          print(i)"
      ],
      "execution_count": null,
      "outputs": []
    },
    {
      "cell_type": "markdown",
      "metadata": {
        "id": "Vgvv9eG_8oFc"
      },
      "source": [
        "### Feature Engineering: variables con fechas"
      ]
    },
    {
      "cell_type": "code",
      "metadata": {
        "id": "QBPOwOIMOE7m"
      },
      "source": [
        "# Defino un dataframe de las variables con fechas. Evaluo con head() si inclui todas.\n",
        "\n",
        "df_dates = ['Account_Created_Date','Opportunity_Created_Date','Quote_Expiry_Date',\n",
        "            'Last_Modified_Date','Planned_Delivery_Start_Date','Planned_Delivery_End_Date',\n",
        "            'Month']\n",
        "\n",
        "df_dates = df[df_dates]\n",
        "\n",
        "df_not_dates = df.drop(df_dates, axis=1)"
      ],
      "execution_count": null,
      "outputs": []
    },
    {
      "cell_type": "markdown",
      "metadata": {
        "id": "wieV2d1xnRjs"
      },
      "source": [
        "## Transformación"
      ]
    },
    {
      "cell_type": "code",
      "metadata": {
        "id": "ESoF_fGm_1hY"
      },
      "source": [
        "# Cambio la variable \"Month\" y la varible \"Delivery_Year\" a variables categoricas. Las transformo, las quito de \n",
        "# df_dates y las vuelvo a incluir en el df original.\n",
        "\n",
        "\n",
        "# De la variable \"Month\", me quedo solo con el mes.\n",
        "\n",
        "month = df_dates[['Month']]\n",
        "new_month = []\n",
        "for i,v in enumerate(month.values):\n",
        "    val = v[0][-1]\n",
        "    new_month.append('Month_'+val)"
      ],
      "execution_count": null,
      "outputs": []
    },
    {
      "cell_type": "code",
      "metadata": {
        "id": "h7JIfX8jCVno"
      },
      "source": [
        "# Lo tranformo a DataFrame\n",
        "new_month = pd.DataFrame(new_month, columns=['Month_cat'])"
      ],
      "execution_count": null,
      "outputs": []
    },
    {
      "cell_type": "code",
      "metadata": {
        "id": "4AzsSfw9E77P"
      },
      "source": [
        "# Actualizo la variable \"Month\" en el df original.\n",
        "\n",
        "df['Month'] = new_month['Month_cat']\n",
        "\n",
        "# Y le cambio el nombre a \"Month_cat\"\n",
        "\n",
        "df.rename(columns={'Month': 'Month_cat'}, inplace=True)"
      ],
      "execution_count": null,
      "outputs": []
    },
    {
      "cell_type": "code",
      "metadata": {
        "id": "5mpTw6oj5N-f",
        "colab": {
          "base_uri": "https://localhost:8080/",
          "height": 220
        },
        "outputId": "7fb1c170-f4dd-4500-ca72-14b2540d4afb"
      },
      "source": [
        "# Ahora, creo la varible Month_num\n",
        "\n",
        "month = df_dates[['Month']]\n",
        "new_month = []\n",
        "for i,v in enumerate(month.values):\n",
        "    val = v[0][-1]\n",
        "    val = int(val)\n",
        "    new_month.append(val)\n",
        "\n",
        "\n",
        "# Transformacion a DF\n",
        "new_month = pd.DataFrame(new_month, columns=['Month_num'])\n",
        "\n",
        "# Agrego la variable \"Month_num\" al df original.\n",
        "\n",
        "df['Month_num'] = new_month['Month_num']\n",
        "df.head()"
      ],
      "execution_count": null,
      "outputs": [
        {
          "output_type": "execute_result",
          "data": {
            "text/html": [
              "<div>\n",
              "<style scoped>\n",
              "    .dataframe tbody tr th:only-of-type {\n",
              "        vertical-align: middle;\n",
              "    }\n",
              "\n",
              "    .dataframe tbody tr th {\n",
              "        vertical-align: top;\n",
              "    }\n",
              "\n",
              "    .dataframe thead th {\n",
              "        text-align: right;\n",
              "    }\n",
              "</style>\n",
              "<table border=\"1\" class=\"dataframe\">\n",
              "  <thead>\n",
              "    <tr style=\"text-align: right;\">\n",
              "      <th></th>\n",
              "      <th>ID</th>\n",
              "      <th>Region</th>\n",
              "      <th>Territory</th>\n",
              "      <th>Pricing_Delivery_Terms_Quote_Appr</th>\n",
              "      <th>Pricing_Delivery_Terms_Approved</th>\n",
              "      <th>Bureaucratic_Code_0_Approval</th>\n",
              "      <th>Bureaucratic_Code_0_Approved</th>\n",
              "      <th>Bureaucratic_Code</th>\n",
              "      <th>Account_Created_Date</th>\n",
              "      <th>Source</th>\n",
              "      <th>Billing_Country</th>\n",
              "      <th>Opportunity_ID</th>\n",
              "      <th>Sales_Contract_No</th>\n",
              "      <th>Account_Owner</th>\n",
              "      <th>Opportunity_Owner</th>\n",
              "      <th>Account_Type</th>\n",
              "      <th>Opportunity_Type</th>\n",
              "      <th>Quote_Type</th>\n",
              "      <th>Delivery_Terms</th>\n",
              "      <th>Opportunity_Created_Date</th>\n",
              "      <th>Brand</th>\n",
              "      <th>Product_Type</th>\n",
              "      <th>Size</th>\n",
              "      <th>Product_Category_B</th>\n",
              "      <th>Price</th>\n",
              "      <th>Currency</th>\n",
              "      <th>Quote_Expiry_Date</th>\n",
              "      <th>Last_Modified_Date</th>\n",
              "      <th>Last_Modified_By</th>\n",
              "      <th>Product_Family</th>\n",
              "      <th>Product_Name</th>\n",
              "      <th>ASP_Currency</th>\n",
              "      <th>ASP</th>\n",
              "      <th>ASP_(converted)</th>\n",
              "      <th>Planned_Delivery_Start_Date</th>\n",
              "      <th>Planned_Delivery_End_Date</th>\n",
              "      <th>Month_cat</th>\n",
              "      <th>Delivery_Quarter</th>\n",
              "      <th>TRF</th>\n",
              "      <th>Total_Amount_Currency</th>\n",
              "      <th>Total_Amount</th>\n",
              "      <th>Total_Taxable_Amount_Currency</th>\n",
              "      <th>Total_Taxable_Amount</th>\n",
              "      <th>Month_num</th>\n",
              "    </tr>\n",
              "  </thead>\n",
              "  <tbody>\n",
              "    <tr>\n",
              "      <th>0</th>\n",
              "      <td>6140</td>\n",
              "      <td>EMEA</td>\n",
              "      <td>Germany</td>\n",
              "      <td>1</td>\n",
              "      <td>1</td>\n",
              "      <td>1</td>\n",
              "      <td>1</td>\n",
              "      <td>Bureaucratic_Code_4</td>\n",
              "      <td>7/5/2017</td>\n",
              "      <td>Source_7</td>\n",
              "      <td>Germany</td>\n",
              "      <td>10689</td>\n",
              "      <td>Otro</td>\n",
              "      <td>Person_Name_13</td>\n",
              "      <td>Person_Name_13</td>\n",
              "      <td>Account_Type_0</td>\n",
              "      <td>Opportunity_Type_8</td>\n",
              "      <td>Non_Binding</td>\n",
              "      <td>Delivery_Terms_2</td>\n",
              "      <td>4/12/2019</td>\n",
              "      <td>0</td>\n",
              "      <td>0</td>\n",
              "      <td>0</td>\n",
              "      <td>0</td>\n",
              "      <td>0</td>\n",
              "      <td>None</td>\n",
              "      <td>4/30/2019</td>\n",
              "      <td>4/12/2019</td>\n",
              "      <td>Person_Name_13</td>\n",
              "      <td>Otro</td>\n",
              "      <td>Otro</td>\n",
              "      <td>EUR</td>\n",
              "      <td>0.325</td>\n",
              "      <td>0.36761</td>\n",
              "      <td>5/1/2019</td>\n",
              "      <td>5/31/2019</td>\n",
              "      <td>Month_5</td>\n",
              "      <td>Q2</td>\n",
              "      <td>0</td>\n",
              "      <td>EUR</td>\n",
              "      <td>162240.0</td>\n",
              "      <td>EUR</td>\n",
              "      <td>367419.0</td>\n",
              "      <td>5</td>\n",
              "    </tr>\n",
              "    <tr>\n",
              "      <th>1</th>\n",
              "      <td>6146</td>\n",
              "      <td>EMEA</td>\n",
              "      <td>Germany</td>\n",
              "      <td>1</td>\n",
              "      <td>1</td>\n",
              "      <td>1</td>\n",
              "      <td>1</td>\n",
              "      <td>Bureaucratic_Code_4</td>\n",
              "      <td>7/5/2017</td>\n",
              "      <td>Source_7</td>\n",
              "      <td>Germany</td>\n",
              "      <td>10689</td>\n",
              "      <td>Otro</td>\n",
              "      <td>Person_Name_13</td>\n",
              "      <td>Person_Name_13</td>\n",
              "      <td>Account_Type_0</td>\n",
              "      <td>Opportunity_Type_8</td>\n",
              "      <td>Non_Binding</td>\n",
              "      <td>Delivery_Terms_2</td>\n",
              "      <td>4/12/2019</td>\n",
              "      <td>0</td>\n",
              "      <td>0</td>\n",
              "      <td>0</td>\n",
              "      <td>0</td>\n",
              "      <td>0</td>\n",
              "      <td>None</td>\n",
              "      <td>4/30/2019</td>\n",
              "      <td>4/12/2019</td>\n",
              "      <td>Person_Name_13</td>\n",
              "      <td>Otro</td>\n",
              "      <td>Otro</td>\n",
              "      <td>EUR</td>\n",
              "      <td>0.320</td>\n",
              "      <td>0.36195</td>\n",
              "      <td>5/1/2019</td>\n",
              "      <td>5/31/2019</td>\n",
              "      <td>Month_5</td>\n",
              "      <td>Q2</td>\n",
              "      <td>0</td>\n",
              "      <td>EUR</td>\n",
              "      <td>78624.0</td>\n",
              "      <td>EUR</td>\n",
              "      <td>367419.0</td>\n",
              "      <td>5</td>\n",
              "    </tr>\n",
              "    <tr>\n",
              "      <th>2</th>\n",
              "      <td>6151</td>\n",
              "      <td>EMEA</td>\n",
              "      <td>Germany</td>\n",
              "      <td>1</td>\n",
              "      <td>1</td>\n",
              "      <td>1</td>\n",
              "      <td>1</td>\n",
              "      <td>Bureaucratic_Code_4</td>\n",
              "      <td>7/5/2017</td>\n",
              "      <td>Source_7</td>\n",
              "      <td>Germany</td>\n",
              "      <td>10689</td>\n",
              "      <td>Otro</td>\n",
              "      <td>Person_Name_13</td>\n",
              "      <td>Person_Name_13</td>\n",
              "      <td>Account_Type_0</td>\n",
              "      <td>Opportunity_Type_8</td>\n",
              "      <td>Non_Binding</td>\n",
              "      <td>Delivery_Terms_2</td>\n",
              "      <td>4/12/2019</td>\n",
              "      <td>0</td>\n",
              "      <td>0</td>\n",
              "      <td>0</td>\n",
              "      <td>0</td>\n",
              "      <td>0</td>\n",
              "      <td>None</td>\n",
              "      <td>4/30/2019</td>\n",
              "      <td>4/12/2019</td>\n",
              "      <td>Person_Name_13</td>\n",
              "      <td>Product_Family_140</td>\n",
              "      <td>Product_Name_241</td>\n",
              "      <td>EUR</td>\n",
              "      <td>0.275</td>\n",
              "      <td>0.31105</td>\n",
              "      <td>5/1/2019</td>\n",
              "      <td>5/31/2019</td>\n",
              "      <td>Month_5</td>\n",
              "      <td>Q2</td>\n",
              "      <td>0</td>\n",
              "      <td>EUR</td>\n",
              "      <td>126555.0</td>\n",
              "      <td>EUR</td>\n",
              "      <td>367419.0</td>\n",
              "      <td>5</td>\n",
              "    </tr>\n",
              "    <tr>\n",
              "      <th>3</th>\n",
              "      <td>6118</td>\n",
              "      <td>EMEA</td>\n",
              "      <td>Germany</td>\n",
              "      <td>1</td>\n",
              "      <td>1</td>\n",
              "      <td>1</td>\n",
              "      <td>1</td>\n",
              "      <td>Bureaucratic_Code_4</td>\n",
              "      <td>7/5/2017</td>\n",
              "      <td>Source_7</td>\n",
              "      <td>Germany</td>\n",
              "      <td>10690</td>\n",
              "      <td>Otro</td>\n",
              "      <td>Person_Name_13</td>\n",
              "      <td>Person_Name_13</td>\n",
              "      <td>Account_Type_0</td>\n",
              "      <td>Opportunity_Type_8</td>\n",
              "      <td>Non_Binding</td>\n",
              "      <td>Delivery_Terms_2</td>\n",
              "      <td>4/12/2019</td>\n",
              "      <td>0</td>\n",
              "      <td>0</td>\n",
              "      <td>0</td>\n",
              "      <td>0</td>\n",
              "      <td>0</td>\n",
              "      <td>None</td>\n",
              "      <td>4/30/2019</td>\n",
              "      <td>4/25/2019</td>\n",
              "      <td>Person_Name_13</td>\n",
              "      <td>Otro</td>\n",
              "      <td>Otro</td>\n",
              "      <td>EUR</td>\n",
              "      <td>0.325</td>\n",
              "      <td>0.36761</td>\n",
              "      <td>6/1/2019</td>\n",
              "      <td>6/28/2019</td>\n",
              "      <td>Month_6</td>\n",
              "      <td>Q2</td>\n",
              "      <td>1</td>\n",
              "      <td>EUR</td>\n",
              "      <td>243360.0</td>\n",
              "      <td>EUR</td>\n",
              "      <td>757783.5</td>\n",
              "      <td>6</td>\n",
              "    </tr>\n",
              "    <tr>\n",
              "      <th>4</th>\n",
              "      <td>6124</td>\n",
              "      <td>EMEA</td>\n",
              "      <td>Germany</td>\n",
              "      <td>1</td>\n",
              "      <td>1</td>\n",
              "      <td>1</td>\n",
              "      <td>1</td>\n",
              "      <td>Bureaucratic_Code_4</td>\n",
              "      <td>7/5/2017</td>\n",
              "      <td>Source_7</td>\n",
              "      <td>Germany</td>\n",
              "      <td>10690</td>\n",
              "      <td>Otro</td>\n",
              "      <td>Person_Name_13</td>\n",
              "      <td>Person_Name_13</td>\n",
              "      <td>Account_Type_0</td>\n",
              "      <td>Opportunity_Type_8</td>\n",
              "      <td>Non_Binding</td>\n",
              "      <td>Delivery_Terms_2</td>\n",
              "      <td>4/12/2019</td>\n",
              "      <td>0</td>\n",
              "      <td>0</td>\n",
              "      <td>0</td>\n",
              "      <td>0</td>\n",
              "      <td>0</td>\n",
              "      <td>None</td>\n",
              "      <td>4/30/2019</td>\n",
              "      <td>4/25/2019</td>\n",
              "      <td>Person_Name_13</td>\n",
              "      <td>Otro</td>\n",
              "      <td>Otro</td>\n",
              "      <td>EUR</td>\n",
              "      <td>0.320</td>\n",
              "      <td>0.36195</td>\n",
              "      <td>6/1/2019</td>\n",
              "      <td>6/29/2019</td>\n",
              "      <td>Month_6</td>\n",
              "      <td>Q2</td>\n",
              "      <td>0</td>\n",
              "      <td>EUR</td>\n",
              "      <td>157248.0</td>\n",
              "      <td>EUR</td>\n",
              "      <td>757783.5</td>\n",
              "      <td>6</td>\n",
              "    </tr>\n",
              "  </tbody>\n",
              "</table>\n",
              "</div>"
            ],
            "text/plain": [
              "     ID Region  ... Total_Taxable_Amount  Month_num\n",
              "0  6140   EMEA  ...             367419.0          5\n",
              "1  6146   EMEA  ...             367419.0          5\n",
              "2  6151   EMEA  ...             367419.0          5\n",
              "3  6118   EMEA  ...             757783.5          6\n",
              "4  6124   EMEA  ...             757783.5          6\n",
              "\n",
              "[5 rows x 44 columns]"
            ]
          },
          "metadata": {},
          "execution_count": 1542
        }
      ]
    },
    {
      "cell_type": "code",
      "metadata": {
        "id": "0mBGIBTdFLwi",
        "colab": {
          "base_uri": "https://localhost:8080/"
        },
        "outputId": "c79082af-5b5d-403b-ffff-6f101742aa98"
      },
      "source": [
        "# Elimino la var 'Month' del df_dates\n",
        "\n",
        "df_dates.drop('Month', axis=1, inplace=True)"
      ],
      "execution_count": null,
      "outputs": [
        {
          "output_type": "stream",
          "name": "stderr",
          "text": [
            "/usr/local/lib/python3.7/dist-packages/pandas/core/frame.py:4174: SettingWithCopyWarning: \n",
            "A value is trying to be set on a copy of a slice from a DataFrame\n",
            "\n",
            "See the caveats in the documentation: https://pandas.pydata.org/pandas-docs/stable/user_guide/indexing.html#returning-a-view-versus-a-copy\n",
            "  errors=errors,\n"
          ]
        }
      ]
    },
    {
      "cell_type": "markdown",
      "metadata": {
        "id": "w1X-Fp3KngsM"
      },
      "source": [
        "## Imputación"
      ]
    },
    {
      "cell_type": "code",
      "metadata": {
        "id": "XBwcYUWTtrI0"
      },
      "source": [
        "# Imputacion de NaT\n",
        "# Defino las variables a imputar\n",
        "imputar = ['Quote_Expiry_Date','Planned_Delivery_End_Date']\n",
        "\n",
        "# Las guardo en otro DF por si cometo errores.\n",
        "df_dates1 = df_dates[imputar]"
      ],
      "execution_count": null,
      "outputs": []
    },
    {
      "cell_type": "code",
      "metadata": {
        "id": "pXR_IVYOWRzC",
        "colab": {
          "base_uri": "https://localhost:8080/"
        },
        "outputId": "467862c1-aa08-4109-d41c-c7fc3cebe026"
      },
      "source": [
        "# Imputo Quote_Expiry_Date por su valor mas cercano\n",
        "\n",
        "lista = []\n",
        "for i,v in enumerate(df_dates1['Quote_Expiry_Date'].values):\n",
        "\n",
        "    if v != 'NaT':\n",
        "       lista.append(v)\n",
        "    \n",
        "    elif v == 'NaT':\n",
        "      ind = i\n",
        "\n",
        "      while v == 'NaT':\n",
        "            ind = ind-1\n",
        "            v = df_dates1['Quote_Expiry_Date'].values[ind]\n",
        "            \n",
        "      lista.append(df_dates1['Quote_Expiry_Date'].values[ind])\n",
        "\n",
        "    else:\n",
        "      print(i)  \n",
        "       \n",
        "df_dates1['Quote_Expiry_Date'] = lista      "
      ],
      "execution_count": null,
      "outputs": [
        {
          "output_type": "stream",
          "name": "stderr",
          "text": [
            "/usr/local/lib/python3.7/dist-packages/ipykernel_launcher.py:21: SettingWithCopyWarning: \n",
            "A value is trying to be set on a copy of a slice from a DataFrame.\n",
            "Try using .loc[row_indexer,col_indexer] = value instead\n",
            "\n",
            "See the caveats in the documentation: https://pandas.pydata.org/pandas-docs/stable/user_guide/indexing.html#returning-a-view-versus-a-copy\n"
          ]
        }
      ]
    },
    {
      "cell_type": "code",
      "metadata": {
        "id": "ukBIOpDRay6p",
        "colab": {
          "base_uri": "https://localhost:8080/"
        },
        "outputId": "1e889710-43a6-4c55-cc93-10d80bf96dd9"
      },
      "source": [
        "# Imputo Planned_Delivery_End_Date por su valor mas cercano\n",
        "\n",
        "lista = []\n",
        "for i,v in enumerate(df_dates1['Planned_Delivery_End_Date'].values):\n",
        "\n",
        "    if v != 'NaT':\n",
        "       lista.append(v)\n",
        "    \n",
        "    elif v == 'NaT':\n",
        "      ind = i\n",
        "\n",
        "      while v == 'NaT':\n",
        "            ind = ind-1\n",
        "            v = df_dates1['Planned_Delivery_End_Date'].values[ind]\n",
        "            \n",
        "      lista.append(df_dates1['Planned_Delivery_End_Date'].values[ind])\n",
        "\n",
        "    else:\n",
        "      print(i)  \n",
        "       \n",
        "df_dates1['Planned_Delivery_End_Date'] = lista      "
      ],
      "execution_count": null,
      "outputs": [
        {
          "output_type": "stream",
          "name": "stderr",
          "text": [
            "/usr/local/lib/python3.7/dist-packages/ipykernel_launcher.py:21: SettingWithCopyWarning: \n",
            "A value is trying to be set on a copy of a slice from a DataFrame.\n",
            "Try using .loc[row_indexer,col_indexer] = value instead\n",
            "\n",
            "See the caveats in the documentation: https://pandas.pydata.org/pandas-docs/stable/user_guide/indexing.html#returning-a-view-versus-a-copy\n"
          ]
        }
      ]
    },
    {
      "cell_type": "code",
      "metadata": {
        "id": "szZXxZDg5R-o",
        "colab": {
          "base_uri": "https://localhost:8080/"
        },
        "outputId": "1cc43834-fe24-4be7-c86a-453db547ef4b"
      },
      "source": [
        "# Reemplazo las variables originales por las imputadas\n",
        "\n",
        "df_dates['Quote_Expiry_Date'] = df_dates1['Quote_Expiry_Date']\n",
        "df_dates['Planned_Delivery_End_Date'] = df_dates1['Planned_Delivery_End_Date']"
      ],
      "execution_count": null,
      "outputs": [
        {
          "output_type": "stream",
          "name": "stderr",
          "text": [
            "/usr/local/lib/python3.7/dist-packages/ipykernel_launcher.py:3: SettingWithCopyWarning: \n",
            "A value is trying to be set on a copy of a slice from a DataFrame.\n",
            "Try using .loc[row_indexer,col_indexer] = value instead\n",
            "\n",
            "See the caveats in the documentation: https://pandas.pydata.org/pandas-docs/stable/user_guide/indexing.html#returning-a-view-versus-a-copy\n",
            "  This is separate from the ipykernel package so we can avoid doing imports until\n",
            "/usr/local/lib/python3.7/dist-packages/ipykernel_launcher.py:4: SettingWithCopyWarning: \n",
            "A value is trying to be set on a copy of a slice from a DataFrame.\n",
            "Try using .loc[row_indexer,col_indexer] = value instead\n",
            "\n",
            "See the caveats in the documentation: https://pandas.pydata.org/pandas-docs/stable/user_guide/indexing.html#returning-a-view-versus-a-copy\n",
            "  after removing the cwd from sys.path.\n"
          ]
        }
      ]
    },
    {
      "cell_type": "markdown",
      "metadata": {
        "id": "91ozMofIno5g"
      },
      "source": [
        "## Feature Engineering"
      ]
    },
    {
      "cell_type": "code",
      "metadata": {
        "id": "kGJZCXZD48fH",
        "colab": {
          "base_uri": "https://localhost:8080/"
        },
        "outputId": "df5e5e07-b83d-4051-9f8a-45f382c94736"
      },
      "source": [
        "# Transformo todo a DateTime\n",
        "\n",
        "for i in df_dates.columns:\n",
        "    df_dates[i] = pd.to_datetime(df_dates[i])"
      ],
      "execution_count": null,
      "outputs": [
        {
          "output_type": "stream",
          "name": "stderr",
          "text": [
            "/usr/local/lib/python3.7/dist-packages/ipykernel_launcher.py:4: SettingWithCopyWarning: \n",
            "A value is trying to be set on a copy of a slice from a DataFrame.\n",
            "Try using .loc[row_indexer,col_indexer] = value instead\n",
            "\n",
            "See the caveats in the documentation: https://pandas.pydata.org/pandas-docs/stable/user_guide/indexing.html#returning-a-view-versus-a-copy\n",
            "  after removing the cwd from sys.path.\n"
          ]
        }
      ]
    },
    {
      "cell_type": "code",
      "metadata": {
        "id": "GMxdK9Q6zhnQ",
        "colab": {
          "base_uri": "https://localhost:8080/"
        },
        "outputId": "f5cc90f1-b37b-4205-8f2d-3e11dcd23f59"
      },
      "source": [
        "# Amplitud_fecha_entrega \n",
        "\n",
        "# Creo la columna 'Amplitud_fecha_entrega'\n",
        "df_dates['Amplitud_fecha_entrega'] = df_dates['Planned_Delivery_End_Date'] - df_dates['Planned_Delivery_Start_Date']\n",
        "\n",
        "\n",
        "# Elimino la palabra \"days\" y transformo a int\n",
        "array = df_dates['Amplitud_fecha_entrega']\n",
        "lista = []\n",
        "\n",
        "for i,v in enumerate(array):\n",
        "    val = str(v)\n",
        "    val = val.split(' ')\n",
        "    val = int(val[0])\n",
        "    lista.append(val)\n",
        "\n",
        "\n",
        "#Actualizo la variable en df_dates\n",
        "\n",
        "df_dates['Amplitud_fecha_entrega'] = lista"
      ],
      "execution_count": null,
      "outputs": [
        {
          "output_type": "stream",
          "name": "stderr",
          "text": [
            "/usr/local/lib/python3.7/dist-packages/ipykernel_launcher.py:4: SettingWithCopyWarning: \n",
            "A value is trying to be set on a copy of a slice from a DataFrame.\n",
            "Try using .loc[row_indexer,col_indexer] = value instead\n",
            "\n",
            "See the caveats in the documentation: https://pandas.pydata.org/pandas-docs/stable/user_guide/indexing.html#returning-a-view-versus-a-copy\n",
            "  after removing the cwd from sys.path.\n",
            "/usr/local/lib/python3.7/dist-packages/ipykernel_launcher.py:20: SettingWithCopyWarning: \n",
            "A value is trying to be set on a copy of a slice from a DataFrame.\n",
            "Try using .loc[row_indexer,col_indexer] = value instead\n",
            "\n",
            "See the caveats in the documentation: https://pandas.pydata.org/pandas-docs/stable/user_guide/indexing.html#returning-a-view-versus-a-copy\n"
          ]
        }
      ]
    },
    {
      "cell_type": "code",
      "metadata": {
        "id": "aOB8WiW30ucW",
        "colab": {
          "base_uri": "https://localhost:8080/"
        },
        "outputId": "e450456c-30cd-4f59-a934-9eab75399b8e"
      },
      "source": [
        "# Amplitud_cuenta_oportunidad.\n",
        "\n",
        "df_dates['Amplitud_cuenta_oportunidad'] = df_dates['Opportunity_Created_Date'] - df_dates['Account_Created_Date']\n",
        "\n",
        "\n",
        "# Elimino la palabra \"days\" y transformo a int\n",
        "array = df_dates['Amplitud_cuenta_oportunidad']\n",
        "lista = []\n",
        "\n",
        "for i,v in enumerate(array):\n",
        "    val = str(v)\n",
        "    val = val.split(' ')\n",
        "    val = int(val[0])\n",
        "    lista.append(val)\n",
        "\n",
        "\n",
        "#Actualizo la variable en df_dates\n",
        "\n",
        "df_dates['Amplitud_cuenta_oportunidad'] = lista"
      ],
      "execution_count": null,
      "outputs": [
        {
          "output_type": "stream",
          "name": "stderr",
          "text": [
            "/usr/local/lib/python3.7/dist-packages/ipykernel_launcher.py:3: SettingWithCopyWarning: \n",
            "A value is trying to be set on a copy of a slice from a DataFrame.\n",
            "Try using .loc[row_indexer,col_indexer] = value instead\n",
            "\n",
            "See the caveats in the documentation: https://pandas.pydata.org/pandas-docs/stable/user_guide/indexing.html#returning-a-view-versus-a-copy\n",
            "  This is separate from the ipykernel package so we can avoid doing imports until\n",
            "/usr/local/lib/python3.7/dist-packages/ipykernel_launcher.py:19: SettingWithCopyWarning: \n",
            "A value is trying to be set on a copy of a slice from a DataFrame.\n",
            "Try using .loc[row_indexer,col_indexer] = value instead\n",
            "\n",
            "See the caveats in the documentation: https://pandas.pydata.org/pandas-docs/stable/user_guide/indexing.html#returning-a-view-versus-a-copy\n"
          ]
        }
      ]
    },
    {
      "cell_type": "code",
      "metadata": {
        "id": "84BcsNNM3fES",
        "colab": {
          "base_uri": "https://localhost:8080/"
        },
        "outputId": "46a9ddcb-7ad7-4ffa-b4cc-fa2591cf4700"
      },
      "source": [
        "# Amplitud_oportunidad_modificacion \n",
        "\n",
        "df_dates['Amplitud_oportunidad_modificacion'] = df_dates['Last_Modified_Date'] - df_dates['Opportunity_Created_Date']\n",
        "\n",
        "\n",
        "# Elimino la palabra \"days\" y transformo a int\n",
        "array = df_dates['Amplitud_oportunidad_modificacion']\n",
        "lista = []\n",
        "\n",
        "for i,v in enumerate(array):\n",
        "    val = str(v)\n",
        "    val = val.split(' ')\n",
        "    val = int(val[0])\n",
        "    lista.append(val)\n",
        "\n",
        "\n",
        "#Actualizo la variable en df_dates\n",
        "\n",
        "df_dates['Amplitud_oportunidad_modificacion'] = lista"
      ],
      "execution_count": null,
      "outputs": [
        {
          "output_type": "stream",
          "name": "stderr",
          "text": [
            "/usr/local/lib/python3.7/dist-packages/ipykernel_launcher.py:3: SettingWithCopyWarning: \n",
            "A value is trying to be set on a copy of a slice from a DataFrame.\n",
            "Try using .loc[row_indexer,col_indexer] = value instead\n",
            "\n",
            "See the caveats in the documentation: https://pandas.pydata.org/pandas-docs/stable/user_guide/indexing.html#returning-a-view-versus-a-copy\n",
            "  This is separate from the ipykernel package so we can avoid doing imports until\n",
            "/usr/local/lib/python3.7/dist-packages/ipykernel_launcher.py:19: SettingWithCopyWarning: \n",
            "A value is trying to be set on a copy of a slice from a DataFrame.\n",
            "Try using .loc[row_indexer,col_indexer] = value instead\n",
            "\n",
            "See the caveats in the documentation: https://pandas.pydata.org/pandas-docs/stable/user_guide/indexing.html#returning-a-view-versus-a-copy\n"
          ]
        }
      ]
    },
    {
      "cell_type": "code",
      "metadata": {
        "id": "aC27vGsb35yK",
        "colab": {
          "base_uri": "https://localhost:8080/"
        },
        "outputId": "da1a9b33-af15-426c-ed82-465456e8c55c"
      },
      "source": [
        "# Amplitud_oportunidad_max_entrega \n",
        "\n",
        "df_dates['Amplitud_oportunidad_max_entrega'] = df_dates['Planned_Delivery_End_Date'] - df_dates['Opportunity_Created_Date']\n",
        "\n",
        "\n",
        "# Elimino la palabra \"days\" y transformo a int\n",
        "array = df_dates['Amplitud_oportunidad_max_entrega']\n",
        "lista = []\n",
        "\n",
        "for i,v in enumerate(array):\n",
        "    val = str(v)\n",
        "    val = val.split(' ')\n",
        "    val = int(val[0])\n",
        "    lista.append(val)\n",
        "\n",
        "\n",
        "#Actualizo la variable en df_dates\n",
        "\n",
        "df_dates['Amplitud_oportunidad_max_entrega'] = lista"
      ],
      "execution_count": null,
      "outputs": [
        {
          "output_type": "stream",
          "name": "stderr",
          "text": [
            "/usr/local/lib/python3.7/dist-packages/ipykernel_launcher.py:3: SettingWithCopyWarning: \n",
            "A value is trying to be set on a copy of a slice from a DataFrame.\n",
            "Try using .loc[row_indexer,col_indexer] = value instead\n",
            "\n",
            "See the caveats in the documentation: https://pandas.pydata.org/pandas-docs/stable/user_guide/indexing.html#returning-a-view-versus-a-copy\n",
            "  This is separate from the ipykernel package so we can avoid doing imports until\n",
            "/usr/local/lib/python3.7/dist-packages/ipykernel_launcher.py:19: SettingWithCopyWarning: \n",
            "A value is trying to be set on a copy of a slice from a DataFrame.\n",
            "Try using .loc[row_indexer,col_indexer] = value instead\n",
            "\n",
            "See the caveats in the documentation: https://pandas.pydata.org/pandas-docs/stable/user_guide/indexing.html#returning-a-view-versus-a-copy\n"
          ]
        }
      ]
    },
    {
      "cell_type": "code",
      "metadata": {
        "id": "TNObM0pokgYg",
        "colab": {
          "base_uri": "https://localhost:8080/"
        },
        "outputId": "bd5a01c1-b7cd-45f5-de4d-ff2ee942de2f"
      },
      "source": [
        "# Mes de cada evento\n",
        "df_months = ['Account_Created_Date','Opportunity_Created_Date','Planned_Delivery_Start_Date','Planned_Delivery_End_Date']\n",
        "\n",
        "for i in df_months:\n",
        "    lista = []\n",
        "    df_dates['Month_'+i] = ''\n",
        "    for i2 in df_dates[i]:\n",
        "        val = str(i2)\n",
        "        val = val.split('-')[1]\n",
        "        lista.append('Month_'+val)\n",
        "\n",
        "    df_dates['Month_'+i] = lista"
      ],
      "execution_count": null,
      "outputs": [
        {
          "output_type": "stream",
          "name": "stderr",
          "text": [
            "/usr/local/lib/python3.7/dist-packages/ipykernel_launcher.py:6: SettingWithCopyWarning: \n",
            "A value is trying to be set on a copy of a slice from a DataFrame.\n",
            "Try using .loc[row_indexer,col_indexer] = value instead\n",
            "\n",
            "See the caveats in the documentation: https://pandas.pydata.org/pandas-docs/stable/user_guide/indexing.html#returning-a-view-versus-a-copy\n",
            "  \n",
            "/usr/local/lib/python3.7/dist-packages/ipykernel_launcher.py:12: SettingWithCopyWarning: \n",
            "A value is trying to be set on a copy of a slice from a DataFrame.\n",
            "Try using .loc[row_indexer,col_indexer] = value instead\n",
            "\n",
            "See the caveats in the documentation: https://pandas.pydata.org/pandas-docs/stable/user_guide/indexing.html#returning-a-view-versus-a-copy\n",
            "  if sys.path[0] == '':\n"
          ]
        }
      ]
    },
    {
      "cell_type": "markdown",
      "metadata": {
        "id": "mYHPI_HBXAts"
      },
      "source": [
        "## Feature Engineering: Estacion"
      ]
    },
    {
      "cell_type": "code",
      "metadata": {
        "id": "Ij7We5BlUdy9"
      },
      "source": [
        "# Selecciono las variables con informacion geografica\n",
        "df_paises = df[['Billing_Country', 'Territory']].copy()"
      ],
      "execution_count": null,
      "outputs": []
    },
    {
      "cell_type": "code",
      "metadata": {
        "id": "_Y1HmdZP5kGk"
      },
      "source": [
        "# Drop de Territory\n",
        "df_paises.drop('Territory', axis=1, inplace=True)"
      ],
      "execution_count": null,
      "outputs": []
    },
    {
      "cell_type": "code",
      "metadata": {
        "id": "eJxKaH4FMviY"
      },
      "source": [
        "# Evaluo que los valores sean iguales en ambos df\n",
        "\n",
        "for i in df['Billing_Country'].values:\n",
        "  if i in df_agrupadas['Billing_Country'].values:\n",
        "    2+2\n",
        "  else:\n",
        "      print(i)"
      ],
      "execution_count": null,
      "outputs": []
    },
    {
      "cell_type": "code",
      "metadata": {
        "id": "IMtZAmBfsFbn"
      },
      "source": [
        "# Agrego cada pais a su hemisferio\n",
        "\n",
        "#Norte\n",
        "hemisferio_norte = df_paises['Billing_Country'].unique().tolist()\n",
        "eliminar = ['None','Otro','South_Africa','Australia','New_Zealand']\n",
        "for i in eliminar:\n",
        "    hemisferio_norte.remove(i)           \n",
        "\n",
        "#Sur\n",
        "hemisferio_sur = ['Australia','South_Africa','New_Zealand']\n",
        "\n",
        "#Otro\n",
        "hemisferio_none = ['Otro','None']"
      ],
      "execution_count": null,
      "outputs": []
    },
    {
      "cell_type": "code",
      "metadata": {
        "id": "2stMwOnL5JLY"
      },
      "source": [
        "# Creo columna con hemisferio\n",
        "\n",
        "array = df_paises[['Billing_Country']]\n",
        "lista = []\n",
        "\n",
        "for i,v in enumerate(array.values):\n",
        "    if array.iloc[i][0] in hemisferio_norte:\n",
        "       lista.append('hemisferio_norte')\n",
        "\n",
        "    elif array.iloc[i][0] in hemisferio_sur:\n",
        "         lista.append('hemisferio_sur')\n",
        "\n",
        "    elif array.iloc[i][0] in hemisferio_none:\n",
        "         lista.append('Otro')\n",
        "    else:\n",
        "      print(v)\n",
        "      print(i)\n",
        "      print('---')"
      ],
      "execution_count": null,
      "outputs": []
    },
    {
      "cell_type": "code",
      "metadata": {
        "id": "sDDDvxI7_zo9"
      },
      "source": [
        "# La agrego a df_paises\n",
        "\n",
        "df_paises['hemisferio'] = lista"
      ],
      "execution_count": null,
      "outputs": []
    },
    {
      "cell_type": "code",
      "metadata": {
        "id": "TkzHeoFgCOBo"
      },
      "source": [
        "# Agrego a df_paises aquellas fechas que me interesa evaluar en que estacion ocurrieron\n",
        "\n",
        "df_paises['Account_Created_Date'] = df_dates['Account_Created_Date']\n",
        "df_paises['Opportunity_Created_Date'] = df_dates['Opportunity_Created_Date']\n",
        "df_paises['Planned_Delivery_End_Date'] = df_dates['Planned_Delivery_End_Date']"
      ],
      "execution_count": null,
      "outputs": []
    },
    {
      "cell_type": "code",
      "metadata": {
        "id": "JKQ-gEKjhHtO"
      },
      "source": [
        "# Genero una columna con la estacion en la cual se dio cada variable temporal de interes.\n",
        "\n",
        "evaluar = ['Account_Created_Date', 'Opportunity_Created_Date', 'Planned_Delivery_End_Date']\n",
        "\n",
        "for i1 in evaluar:\n",
        "    aux = df_paises[i1]\n",
        "    lista = []\n",
        "    df_paises['Estacion_'+i1] = ''\n",
        "\n",
        "    for i2,v in enumerate(aux):\n",
        "        mes = aux.iloc[i2].month\n",
        "        dia = aux.iloc[i2].day\n",
        "\n",
        "        if df_paises['hemisferio'].values[i2] == 'hemisferio_norte':\n",
        "           if ((mes == 12 and dia >= 21) or (mes >= 1 and mes < 3) or (mes == 3 and dia < 21)):\n",
        "              df_paises['Estacion_'+i1].values[i2] = 'Invierno'\n",
        "\n",
        "           elif ((mes == 3 and dia >= 21) or (mes >= 4 and mes < 6) or (mes == 6 and dia < 21)):\n",
        "              df_paises['Estacion_'+i1].values[i2] = 'Primavera'\n",
        "\n",
        "           elif ((mes == 6 and dia >= 21) or (mes >= 7 and mes < 9) or (mes == 9 and dia < 21)):\n",
        "              df_paises['Estacion_'+i1].values[i2] = 'Verano'\n",
        "\n",
        "           elif ((mes == 9 and dia >= 21) or (mes >= 10 and mes < 12) or (mes == 12 and dia < 21)):\n",
        "              df_paises['Estacion_'+i1].values[i2] = 'Otonio'\n",
        "\n",
        "           else:\n",
        "             df_paises['Estacion_'+i1].values[i2] = 'Fuck'             \n",
        "\n",
        "\n",
        "        \n",
        "        elif df_paises['hemisferio'].values[i2] == 'hemisferio_sur':\n",
        "           if ((mes == 12 and dia >= 21) or (mes >= 1 and mes < 3) or (mes == 3 and dia < 21)):\n",
        "              df_paises['Estacion_'+i1].values[i2] = 'Verano'\n",
        "\n",
        "           elif ((mes == 3 and dia >= 21) or (mes >= 4 and mes < 6) or (mes == 6 and dia < 21)):\n",
        "              df_paises['Estacion_'+i1].values[i2] = 'Otonio'\n",
        "\n",
        "           elif ((mes == 6 and dia >= 21) or (mes >= 7 and mes < 9) or (mes == 9 and dia < 21)):\n",
        "              df_paises['Estacion_'+i1].values[i2] = 'Invierno'\n",
        "\n",
        "           elif ((mes == 9 and dia >= 21) or (mes >= 10 and mes < 12) or (mes == 12 and dia < 21)):\n",
        "              df_paises['Estacion_'+i1].values[i2] = 'Primavera'\n",
        "           \n",
        "           else:\n",
        "             df_paises['Estacion_'+i1].values[i2] = 'Fuck'\n",
        "\n",
        "        \n",
        "        elif df_paises['hemisferio'].values[i2] == 'Otro':\n",
        "             df_paises['Estacion_'+i1].values[i2] = 'Estacion_no_conocida'"
      ],
      "execution_count": null,
      "outputs": []
    },
    {
      "cell_type": "code",
      "metadata": {
        "id": "M9DZPU9IfUCk",
        "colab": {
          "base_uri": "https://localhost:8080/"
        },
        "outputId": "fbce02dc-a9a0-4245-a93b-40c30f805688"
      },
      "source": [
        "# Semana del mes\n",
        "evaluar = ['Account_Created_Date', 'Opportunity_Created_Date']\n",
        "\n",
        "for i1 in evaluar:\n",
        "    lista = []\n",
        "    df_dates['Semana_mes_'+i1] = ''\n",
        "\n",
        "    for i2,v2 in enumerate(df_dates[i1].values):\n",
        "        val = str(v2)\n",
        "        val = val[8:10]\n",
        "        val = int(val)\n",
        "\n",
        "        if ((val >= 1) and (val <= 7)):\n",
        "              df_dates['Semana_mes_'+i1].values[i2] = 'Primer_semana_mes'\n",
        "        elif ((val >= 8) and (val <= 14)):\n",
        "              df_dates['Semana_mes_'+i1].values[i2] = 'Segunda_semana_mes'\n",
        "        elif ((val >= 15) and (val <= 21)):\n",
        "              df_dates['Semana_mes_'+i1].values[i2] = 'Tercera_semana_mes'\n",
        "        elif ((val >= 22) and (val <= 31)):\n",
        "              df_dates['Semana_mes_'+i1].values[i2] = 'Cuarta_semana_mes'"
      ],
      "execution_count": null,
      "outputs": [
        {
          "output_type": "stream",
          "name": "stderr",
          "text": [
            "/usr/local/lib/python3.7/dist-packages/ipykernel_launcher.py:6: SettingWithCopyWarning: \n",
            "A value is trying to be set on a copy of a slice from a DataFrame.\n",
            "Try using .loc[row_indexer,col_indexer] = value instead\n",
            "\n",
            "See the caveats in the documentation: https://pandas.pydata.org/pandas-docs/stable/user_guide/indexing.html#returning-a-view-versus-a-copy\n",
            "  \n"
          ]
        }
      ]
    },
    {
      "cell_type": "code",
      "metadata": {
        "id": "KPNGvmN9llel"
      },
      "source": [
        "# Me quedo solo con las variables de Estacion creadas por mi\n",
        "df_paises.drop(['Billing_Country','hemisferio','Account_Created_Date',\n",
        "                'Opportunity_Created_Date','Planned_Delivery_End_Date',], axis=1, inplace=True)"
      ],
      "execution_count": null,
      "outputs": []
    },
    {
      "cell_type": "code",
      "metadata": {
        "id": "f1SgGyoxm5sX",
        "colab": {
          "base_uri": "https://localhost:8080/"
        },
        "outputId": "b883d9b2-7959-4e88-aaea-235410143afd"
      },
      "source": [
        "# Me quedo solo con las variables de fechas creadas por mi\n",
        "df_dates.drop(['Account_Created_Date','Opportunity_Created_Date',\n",
        "               'Last_Modified_Date','Planned_Delivery_Start_Date','Quote_Expiry_Date', 'Planned_Delivery_End_Date'], axis=1, inplace=True)"
      ],
      "execution_count": null,
      "outputs": [
        {
          "output_type": "stream",
          "name": "stderr",
          "text": [
            "/usr/local/lib/python3.7/dist-packages/pandas/core/frame.py:4174: SettingWithCopyWarning: \n",
            "A value is trying to be set on a copy of a slice from a DataFrame\n",
            "\n",
            "See the caveats in the documentation: https://pandas.pydata.org/pandas-docs/stable/user_guide/indexing.html#returning-a-view-versus-a-copy\n",
            "  errors=errors,\n"
          ]
        }
      ]
    },
    {
      "cell_type": "code",
      "metadata": {
        "id": "KEVtuTHGmN8x"
      },
      "source": [
        "# Unifico ambos df para finalmente unirlos al df final\n",
        "df_unificado = pd.concat([df_dates, df_paises], axis = 1)"
      ],
      "execution_count": null,
      "outputs": []
    },
    {
      "cell_type": "code",
      "metadata": {
        "id": "VO60UTT3nhTU"
      },
      "source": [
        "# Creo el df final\n",
        "df1 = pd.concat([df, df_unificado], axis = 1)\n",
        "df = df1.copy()"
      ],
      "execution_count": null,
      "outputs": []
    },
    {
      "cell_type": "code",
      "metadata": {
        "id": "LMwQnYG5If9R"
      },
      "source": [
        "# Drop de fechas exactas pasadas.\n",
        "df.drop(['Account_Created_Date','Opportunity_Created_Date','Last_Modified_Date',\n",
        "         'Quote_Expiry_Date','Planned_Delivery_Start_Date','Planned_Delivery_End_Date'],axis=1,inplace=True)"
      ],
      "execution_count": null,
      "outputs": []
    },
    {
      "cell_type": "markdown",
      "metadata": {
        "id": "_VN0oRiSpkmb"
      },
      "source": [
        "## Ultimas modificaciones"
      ]
    },
    {
      "cell_type": "code",
      "metadata": {
        "colab": {
          "base_uri": "https://localhost:8080/",
          "height": 36
        },
        "id": "PxwtaxAH5Kbs",
        "outputId": "e46535be-4304-4827-88e1-01fb67db8a70"
      },
      "source": [
        "'''\n",
        "# Dropeo de valores \"NaN\" ya que se encuentra en muchas variables numericas.\n",
        "\n",
        "nan_value = float(\"NaN\")\n",
        "df.replace(\"\", nan_value, inplace=True)\n",
        "df.dropna(inplace=True)\n",
        "'''"
      ],
      "execution_count": null,
      "outputs": [
        {
          "output_type": "execute_result",
          "data": {
            "application/vnd.google.colaboratory.intrinsic+json": {
              "type": "string"
            },
            "text/plain": [
              "'\\n# Dropeo de valores \"NaN\" ya que se encuentra en muchas variables numericas.\\n\\nnan_value = float(\"NaN\")\\ndf.replace(\"\", nan_value, inplace=True)\\ndf.dropna(inplace=True)\\n'"
            ]
          },
          "metadata": {},
          "execution_count": 1568
        }
      ]
    },
    {
      "cell_type": "code",
      "metadata": {
        "colab": {
          "base_uri": "https://localhost:8080/"
        },
        "id": "4_svJbYVi8B-",
        "outputId": "fa5026bd-a766-4979-d558-20f050543606"
      },
      "source": [
        "df.shape"
      ],
      "execution_count": null,
      "outputs": [
        {
          "output_type": "execute_result",
          "data": {
            "text/plain": [
              "(2551, 51)"
            ]
          },
          "metadata": {},
          "execution_count": 1569
        }
      ]
    },
    {
      "cell_type": "markdown",
      "metadata": {
        "id": "MUWjwes_Ys11"
      },
      "source": [
        "# XGBoost, LightGBM, CatBoost."
      ]
    },
    {
      "cell_type": "code",
      "metadata": {
        "id": "bPC9FPzfY6tj"
      },
      "source": [
        "\n",
        "# Importaciones\n",
        "from sklearn.compose import ColumnTransformer\n",
        "from sklearn.pipeline import Pipeline\n",
        "from sklearn.preprocessing import PolynomialFeatures, OneHotEncoder\n",
        "import scipy.stats as st\n",
        "from xgboost.sklearn import XGBClassifier\n",
        "from sklearn.model_selection import RandomizedSearchCV\n",
        "from sklearn.preprocessing import StandardScaler\n",
        "from sklearn.preprocessing import OrdinalEncoder\n",
        "from sklearn.model_selection import train_test_split\n",
        "from xgboost import plot_importance\n",
        "from sklearn.metrics import roc_auc_score\n",
        "from sklearn.metrics import roc_curve\n",
        "from sklearn.metrics import accuracy_score\n",
        "from sklearn.metrics import precision_score\n",
        "from sklearn.metrics import recall_score\n",
        "from sklearn.metrics import f1_score\n",
        "from sklearn.ensemble import IsolationForest\n",
        "import matplotlib.pyplot as plt\n",
        "from sklearn.metrics import plot_confusion_matrix\n"
      ],
      "execution_count": null,
      "outputs": []
    },
    {
      "cell_type": "code",
      "metadata": {
        "id": "MmkKWax6RuCI"
      },
      "source": [
        "# Drop de la variable causante de Target Leakage\n",
        "df.drop('Sales_Contract_No', axis=1, inplace=True)"
      ],
      "execution_count": null,
      "outputs": []
    },
    {
      "cell_type": "code",
      "metadata": {
        "id": "S2hHJhKilBGl"
      },
      "source": [
        "# Copia para degugear la siguiente celda\n",
        "df_boost = df.copy()"
      ],
      "execution_count": null,
      "outputs": []
    },
    {
      "cell_type": "code",
      "metadata": {
        "colab": {
          "base_uri": "https://localhost:8080/"
        },
        "id": "lrxADkVi9KDa",
        "outputId": "13e24e5c-bc89-4546-9fc5-bd93af571baa"
      },
      "source": [
        "df_numericas.shape"
      ],
      "execution_count": null,
      "outputs": [
        {
          "output_type": "execute_result",
          "data": {
            "text/plain": [
              "(2551, 20)"
            ]
          },
          "metadata": {},
          "execution_count": 1573
        }
      ]
    },
    {
      "cell_type": "code",
      "metadata": {
        "id": "gpdfgIBmJKFz",
        "colab": {
          "base_uri": "https://localhost:8080/"
        },
        "outputId": "7baee15b-bffa-403e-e1b9-d13dfd057ace"
      },
      "source": [
        "# Actualizo df sin onehotencodear\n",
        "df = df_boost.copy()\n",
        "\n",
        "# Drop de variables que obtuvieron Feature Importance \n",
        "#df.drop(to_drop, axis=1, inplace=True)\n",
        "\n",
        "\n",
        "# Dropeo de valores \"NaN\" ya que se encuentra en muchas variables numericas.\n",
        "\n",
        "nan_value = float(\"NaN\")\n",
        "df.replace(\"\", nan_value, inplace=True)\n",
        "df.dropna(inplace=True)\n",
        "\n",
        "\n",
        "# Seleccion numericas\n",
        "df_numericas = df.select_dtypes(include=['float64','int64'])\n",
        "\n",
        "# Seleccion categoricas\n",
        "df_cat = df.select_dtypes(include=['object'])\n",
        "\n",
        "# Tranformacion de df_numericas a int.\n",
        "\n",
        "df_prueba = df_numericas.copy()\n",
        "columnas = df_prueba.columns\n",
        "\n",
        "for i in columnas:\n",
        "    for i2,v in enumerate(df_prueba[i].values):\n",
        "        try:\n",
        "            val = int(df_prueba[i].iloc[i2])\n",
        "            df_prueba[i].iloc[i2] = val\n",
        "        except:\n",
        "          print(i)\n",
        "          print(val)\n",
        "          print(i2)\n",
        "\n",
        "#Actualizo\n",
        "df_numericas = df_prueba.copy()\n",
        "\n",
        "# Unifico ambos df\n",
        "df_unificado = pd.concat([df_cat, df_numericas], axis = 1)\n",
        "\n",
        "# Actualizo el df\n",
        "df = df_unificado.copy()\n",
        "\n",
        "# Categoricas y numericas para realizar sus respectivas transformaciones\n",
        "\n",
        "#Num\n",
        "num_columns = df.select_dtypes(include=['float64','int64'])\n",
        "dummys = ['Pricing_Delivery_Terms_Quote_Appr','Pricing_Delivery_Terms_Approved','Bureaucratic_Code_0_Approval',\n",
        "          'Bureaucratic_Code_0_Approved','Brand','Product_Type','Size','Product_Category_B',\n",
        "          'Price']\n",
        "num_columns.drop(dummys, axis=1, inplace=True)          \n",
        "num_columns.drop('Opportunity_ID', axis=1, inplace=True)\n",
        "num_columns.drop('ID', axis=1, inplace=True)\n",
        "\n",
        "#Cat\n",
        "cat_columns = df.drop(num_columns, axis=1)\n",
        "cat_columns.drop('Opportunity_ID', axis=1, inplace=True)\n",
        "cat_columns.drop('ID', axis=1, inplace=True)\n",
        "\n",
        "#Scaler\n",
        "scaler = StandardScaler()\n",
        "\n",
        "# Ordinal Encoder sobre las categoricas.\n",
        "# Las categorías \"nuevas\" que aparezcan se imputan con el valor de unknown_value\n",
        "o_encoder = OrdinalEncoder(handle_unknown=\"use_encoded_value\", unknown_value=99999999)\n",
        "\n",
        "#Escalamos las variables\n",
        "scaled = scaler.fit_transform(num_columns)\n",
        "\n",
        "# Generamos un dataframe con las variables escaladas\n",
        "num_columns1 = pd.DataFrame(scaled, columns = num_columns.columns)\n",
        "num_columns = num_columns1\n",
        "\n",
        "# Dropeo de valores \"NaN\" ya que se encuentra en muchas variables numericas.\n",
        "\n",
        "nan_value = float(\"NaN\")\n",
        "num_columns.replace(\"\", nan_value, inplace=True)\n",
        "num_columns.dropna(inplace=True)\n",
        "\n",
        "\n",
        "# polynomial features sobre las variables numéricas\n",
        "poly = PolynomialFeatures(2)\n",
        "poly.fit_transform(num_columns)\n",
        "\n",
        "\n",
        "\n",
        "# Dropeo de valores \"NaN\" ya que se encuentra en muchas variables categoricas.\n",
        "\n",
        "nan_value = float(\"NaN\")\n",
        "cat_columns.replace(\"\", nan_value, inplace=True)\n",
        "cat_columns.dropna(inplace=True)\n",
        "\n",
        "\n",
        "# Generamos ordinales con las variables categoricas (OrdinalEncoder)\n",
        "result = o_encoder.fit_transform(cat_columns)\n",
        "cat_columns1 = pd.DataFrame(result, columns=cat_columns.columns)\n",
        "cat_columns = cat_columns1\n",
        "\n",
        "# Vuelvo a agregar Stage a num_columns\n",
        "num_columns['Opportunity_ID'] = df['Opportunity_ID']\n",
        "num_columns['ID'] = df['ID']\n",
        "\n",
        "# Actualizamos el df\n",
        "df = pd.concat([num_columns, cat_columns],axis=1)  "
      ],
      "execution_count": null,
      "outputs": [
        {
          "output_type": "stream",
          "name": "stderr",
          "text": [
            "/usr/local/lib/python3.7/dist-packages/pandas/core/indexing.py:670: SettingWithCopyWarning: \n",
            "A value is trying to be set on a copy of a slice from a DataFrame\n",
            "\n",
            "See the caveats in the documentation: https://pandas.pydata.org/pandas-docs/stable/user_guide/indexing.html#returning-a-view-versus-a-copy\n",
            "  iloc._setitem_with_indexer(indexer, value)\n",
            "/usr/local/lib/python3.7/dist-packages/pandas/core/frame.py:4174: SettingWithCopyWarning: \n",
            "A value is trying to be set on a copy of a slice from a DataFrame\n",
            "\n",
            "See the caveats in the documentation: https://pandas.pydata.org/pandas-docs/stable/user_guide/indexing.html#returning-a-view-versus-a-copy\n",
            "  errors=errors,\n"
          ]
        }
      ]
    },
    {
      "cell_type": "code",
      "metadata": {
        "colab": {
          "base_uri": "https://localhost:8080/"
        },
        "id": "hv5z75ZT-1kI",
        "outputId": "d4584b91-ec58-479e-8819-081c5d2ca37a"
      },
      "source": [
        "df.shape"
      ],
      "execution_count": null,
      "outputs": [
        {
          "output_type": "execute_result",
          "data": {
            "text/plain": [
              "(2551, 50)"
            ]
          },
          "metadata": {},
          "execution_count": 1579
        }
      ]
    },
    {
      "cell_type": "code",
      "metadata": {
        "id": "orFCoqM1Ovrq"
      },
      "source": [
        "# Finalmente lo transformo a CSV para predecir sus valores.\n",
        "\n",
        "df.to_csv('df_validacion_final.csv')"
      ],
      "execution_count": null,
      "outputs": []
    }
  ]
}